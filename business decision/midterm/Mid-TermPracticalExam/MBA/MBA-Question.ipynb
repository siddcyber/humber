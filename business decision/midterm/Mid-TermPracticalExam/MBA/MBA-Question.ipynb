{
 "cells": [
  {
   "cell_type": "markdown",
   "metadata": {
    "colab_type": "text",
    "id": "6Ijg5wUCTQYG"
   },
   "source": [
    "\n",
    "## **Market Basket Analysis (MBA) Case Study**\n",
    "\n",
    "Perform Market Basket Analysis to:\n",
    "* Identify patterns in consumer decision-making\n",
    "* Use metrics to evaluate the properties of patterns.\n",
    "* Construct \"rules\" that provide concrete recommendations for businesses.\n",
    "* Visualize patterns and rules \n",
    "\n",
    "## **The dataset**\n",
    "\n",
    "** The dataset is divided into three CSV files:**\n",
    "1. `olist_order_items_dataset.csv`\n",
    "2. `olist_products_dataset.csv`\n",
    "3. `product_category_name_translation.csv`\n",
    "\n",
    "**The column definitions are as follows:**\n",
    "`olist_order_items_dataset.csv`:\n",
    "- `order_id`: The unique identifier for a transaction.\n",
    "- `order_item_id`: The order of an item within a transaction.\n",
    "- `product_id`: The unique identifier for a product.\n",
    "- `price`: The product's price.\n",
    "\n",
    "`olist_products_dataset.csv`:\n",
    "- `product_id`: The unique identifier for a product.\n",
    "- `product_category_name`: The name of an item's product category in Portuguese.\n",
    "- `product_weight_g`: The product's weight in grams.\n",
    "- `product_length_cm`: The product's length in centimeters.\n",
    "- `product_width_cm`: The product's width in centimeters.\n",
    "- `product_height_cm`: The product's height in centimeters.\n",
    "\n",
    "`product_category_name_translation.csv`:\n",
    "- `product_category_name`: The name of an item's product category in Portuguese.\n",
    "- `product_category_name_english`: The name of an item's product category in English."
   ]
  },
  {
   "cell_type": "markdown",
   "metadata": {
    "colab_type": "text",
    "id": "BMYfcKeDY85K"
   },
   "source": [
    "## **Data Background**"
   ]
  },
  {
   "cell_type": "markdown",
   "metadata": {
    "colab_type": "text",
    "id": "4_gO3NX1JvFy"
   },
   "source": [
    "** This case study is based on over 100,000 orders.Olist connects sellers to marketplaces where sellers register their products. Customer makes purchase at marketplace using the Olist store where sellers fulfill their orders."
   ]
  },
  {
   "cell_type": "markdown",
   "metadata": {},
   "source": [
    "## **Answer all the following Questions**"
   ]
  },
  {
   "cell_type": "code",
   "execution_count": 1,
   "metadata": {},
   "outputs": [
    {
     "name": "stdout",
     "output_type": "stream",
     "text": [
      "Defaulting to user installation because normal site-packages is not writeable\n",
      "Collecting mlxtend\n",
      "  Downloading mlxtend-0.23.4-py3-none-any.whl.metadata (7.3 kB)\n",
      "Requirement already satisfied: scipy>=1.2.1 in c:\\program files\\python39\\lib\\site-packages (from mlxtend) (1.13.1)\n",
      "Requirement already satisfied: numpy>=1.16.2 in c:\\program files\\python39\\lib\\site-packages (from mlxtend) (2.0.2)\n",
      "Requirement already satisfied: pandas>=0.24.2 in c:\\program files\\python39\\lib\\site-packages (from mlxtend) (2.2.3)\n",
      "Requirement already satisfied: scikit-learn>=1.3.1 in c:\\users\\siddh\\appdata\\roaming\\python\\python39\\site-packages (from mlxtend) (1.6.1)\n",
      "Requirement already satisfied: matplotlib>=3.0.0 in c:\\program files\\python39\\lib\\site-packages (from mlxtend) (3.9.2)\n",
      "Requirement already satisfied: joblib>=0.13.2 in c:\\users\\siddh\\appdata\\roaming\\python\\python39\\site-packages (from mlxtend) (1.4.2)\n",
      "Requirement already satisfied: contourpy>=1.0.1 in c:\\program files\\python39\\lib\\site-packages (from matplotlib>=3.0.0->mlxtend) (1.3.0)\n",
      "Requirement already satisfied: cycler>=0.10 in c:\\program files\\python39\\lib\\site-packages (from matplotlib>=3.0.0->mlxtend) (0.12.1)\n",
      "Requirement already satisfied: fonttools>=4.22.0 in c:\\program files\\python39\\lib\\site-packages (from matplotlib>=3.0.0->mlxtend) (4.55.0)\n",
      "Requirement already satisfied: kiwisolver>=1.3.1 in c:\\program files\\python39\\lib\\site-packages (from matplotlib>=3.0.0->mlxtend) (1.4.7)\n",
      "Requirement already satisfied: packaging>=20.0 in c:\\program files\\python39\\lib\\site-packages (from matplotlib>=3.0.0->mlxtend) (24.2)\n",
      "Requirement already satisfied: pillow>=8 in c:\\program files\\python39\\lib\\site-packages (from matplotlib>=3.0.0->mlxtend) (11.0.0)\n",
      "Requirement already satisfied: pyparsing>=2.3.1 in c:\\program files\\python39\\lib\\site-packages (from matplotlib>=3.0.0->mlxtend) (3.2.0)\n",
      "Requirement already satisfied: python-dateutil>=2.7 in c:\\program files\\python39\\lib\\site-packages (from matplotlib>=3.0.0->mlxtend) (2.9.0.post0)\n",
      "Requirement already satisfied: importlib-resources>=3.2.0 in c:\\program files\\python39\\lib\\site-packages (from matplotlib>=3.0.0->mlxtend) (6.4.5)\n",
      "Requirement already satisfied: pytz>=2020.1 in c:\\program files\\python39\\lib\\site-packages (from pandas>=0.24.2->mlxtend) (2024.2)\n",
      "Requirement already satisfied: tzdata>=2022.7 in c:\\program files\\python39\\lib\\site-packages (from pandas>=0.24.2->mlxtend) (2024.2)\n",
      "Requirement already satisfied: threadpoolctl>=3.1.0 in c:\\users\\siddh\\appdata\\roaming\\python\\python39\\site-packages (from scikit-learn>=1.3.1->mlxtend) (3.5.0)\n",
      "Requirement already satisfied: zipp>=3.1.0 in c:\\program files\\python39\\lib\\site-packages (from importlib-resources>=3.2.0->matplotlib>=3.0.0->mlxtend) (3.21.0)\n",
      "Requirement already satisfied: six>=1.5 in c:\\program files\\python39\\lib\\site-packages (from python-dateutil>=2.7->matplotlib>=3.0.0->mlxtend) (1.16.0)\n",
      "Downloading mlxtend-0.23.4-py3-none-any.whl (1.4 MB)\n",
      "   ---------------------------------------- 0.0/1.4 MB ? eta -:--:--\n",
      "   ---------------------------------------- 1.4/1.4 MB 23.2 MB/s eta 0:00:00\n",
      "Installing collected packages: mlxtend\n",
      "Successfully installed mlxtend-0.23.4\n",
      "Note: you may need to restart the kernel to use updated packages.\n"
     ]
    },
    {
     "name": "stderr",
     "output_type": "stream",
     "text": [
      "WARNING: Error parsing dependencies of django: [Errno 2] No such file or directory: 'c:\\\\program files\\\\python39\\\\lib\\\\site-packages\\\\Django-4.2.11.dist-info\\\\METADATA'\n",
      "\n",
      "[notice] A new release of pip is available: 24.3.1 -> 25.0.1\n",
      "[notice] To update, run: python.exe -m pip install --upgrade pip\n"
     ]
    }
   ],
   "source": [
    "pip install mlxtend "
   ]
  },
  {
   "cell_type": "code",
   "execution_count": 2,
   "metadata": {
    "colab": {},
    "colab_type": "code",
    "id": "xhliXEYb02sm"
   },
   "outputs": [],
   "source": [
    "# Import the required packages for MBA.\n",
    "import pandas as pd\n",
    "import matplotlib.pyplot as plt\n",
    "import numpy as np\n",
    "import seaborn as sns\n",
    "from mlxtend.preprocessing import TransactionEncoder\n",
    "from mlxtend.frequent_patterns import apriori, association_rules\n",
    "import numpy as np\n",
    "\n"
   ]
  },
  {
   "cell_type": "markdown",
   "metadata": {},
   "source": [
    "### **Data Loading**"
   ]
  },
  {
   "cell_type": "code",
   "execution_count": 3,
   "metadata": {
    "colab": {},
    "colab_type": "code",
    "id": "EMQfyC7GUNhT"
   },
   "outputs": [],
   "source": [
    "\n",
    "\n",
    "# Load orders dataset\n",
    "orders = pd.read_csv('data/order_items_dataset.csv')\n",
    "\n",
    "# Load products dataset\n",
    "products = pd.read_csv('data/products_dataset.csv')\n",
    "\n",
    "# Load translations dataset\n",
    "translations = pd.read_csv('data/product_category_name_translation.csv')\n",
    "\n"
   ]
  },
  {
   "cell_type": "code",
   "execution_count": 4,
   "metadata": {
    "colab": {
     "base_uri": "https://localhost:8080/",
     "height": 204
    },
    "colab_type": "code",
    "id": "KOKdds8Qe6wq",
    "outputId": "da00d052-1eef-423e-e3d0-3d30d9089bb7"
   },
   "outputs": [
    {
     "data": {
      "text/html": [
       "<div>\n",
       "<style scoped>\n",
       "    .dataframe tbody tr th:only-of-type {\n",
       "        vertical-align: middle;\n",
       "    }\n",
       "\n",
       "    .dataframe tbody tr th {\n",
       "        vertical-align: top;\n",
       "    }\n",
       "\n",
       "    .dataframe thead th {\n",
       "        text-align: right;\n",
       "    }\n",
       "</style>\n",
       "<table border=\"1\" class=\"dataframe\">\n",
       "  <thead>\n",
       "    <tr style=\"text-align: right;\">\n",
       "      <th></th>\n",
       "      <th>order_id</th>\n",
       "      <th>order_item_id</th>\n",
       "      <th>product_id</th>\n",
       "      <th>price</th>\n",
       "    </tr>\n",
       "  </thead>\n",
       "  <tbody>\n",
       "    <tr>\n",
       "      <th>0</th>\n",
       "      <td>b8bfa12431142333a0c84802f9529d87</td>\n",
       "      <td>1</td>\n",
       "      <td>765a8070ece0f1383d0f5faf913dfb9b</td>\n",
       "      <td>81.0</td>\n",
       "    </tr>\n",
       "    <tr>\n",
       "      <th>1</th>\n",
       "      <td>b8bfa12431142333a0c84802f9529d87</td>\n",
       "      <td>2</td>\n",
       "      <td>a41e356c76fab66334f36de622ecbd3a</td>\n",
       "      <td>99.3</td>\n",
       "    </tr>\n",
       "    <tr>\n",
       "      <th>2</th>\n",
       "      <td>b8bfa12431142333a0c84802f9529d87</td>\n",
       "      <td>3</td>\n",
       "      <td>765a8070ece0f1383d0f5faf913dfb9b</td>\n",
       "      <td>81.0</td>\n",
       "    </tr>\n",
       "    <tr>\n",
       "      <th>3</th>\n",
       "      <td>00010242fe8c5a6d1ba2dd792cb16214</td>\n",
       "      <td>1</td>\n",
       "      <td>4244733e06e7ecb4970a6e2683c13e61</td>\n",
       "      <td>58.9</td>\n",
       "    </tr>\n",
       "    <tr>\n",
       "      <th>4</th>\n",
       "      <td>00018f77f2f0320c557190d7a144bdd3</td>\n",
       "      <td>1</td>\n",
       "      <td>e5f2d52b802189ee658865ca93d83a8f</td>\n",
       "      <td>239.9</td>\n",
       "    </tr>\n",
       "  </tbody>\n",
       "</table>\n",
       "</div>"
      ],
      "text/plain": [
       "                           order_id  order_item_id  \\\n",
       "0  b8bfa12431142333a0c84802f9529d87              1   \n",
       "1  b8bfa12431142333a0c84802f9529d87              2   \n",
       "2  b8bfa12431142333a0c84802f9529d87              3   \n",
       "3  00010242fe8c5a6d1ba2dd792cb16214              1   \n",
       "4  00018f77f2f0320c557190d7a144bdd3              1   \n",
       "\n",
       "                         product_id  price  \n",
       "0  765a8070ece0f1383d0f5faf913dfb9b   81.0  \n",
       "1  a41e356c76fab66334f36de622ecbd3a   99.3  \n",
       "2  765a8070ece0f1383d0f5faf913dfb9b   81.0  \n",
       "3  4244733e06e7ecb4970a6e2683c13e61   58.9  \n",
       "4  e5f2d52b802189ee658865ca93d83a8f  239.9  "
      ]
     },
     "execution_count": 4,
     "metadata": {},
     "output_type": "execute_result"
    }
   ],
   "source": [
    "# Print orders header for orders dataset.\n",
    "orders.head()"
   ]
  },
  {
   "cell_type": "code",
   "execution_count": 5,
   "metadata": {
    "colab": {
     "base_uri": "https://localhost:8080/",
     "height": 204
    },
    "colab_type": "code",
    "id": "8jxinQxfAB6e",
    "outputId": "eab66112-b228-4a67-a33b-fcdc3459ddab"
   },
   "outputs": [
    {
     "name": "stdout",
     "output_type": "stream",
     "text": [
      "<class 'pandas.core.frame.DataFrame'>\n",
      "RangeIndex: 112650 entries, 0 to 112649\n",
      "Data columns (total 4 columns):\n",
      " #   Column         Non-Null Count   Dtype  \n",
      "---  ------         --------------   -----  \n",
      " 0   order_id       112650 non-null  object \n",
      " 1   order_item_id  112650 non-null  int64  \n",
      " 2   product_id     112650 non-null  object \n",
      " 3   price          112650 non-null  float64\n",
      "dtypes: float64(1), int64(1), object(2)\n",
      "memory usage: 3.4+ MB\n"
     ]
    }
   ],
   "source": [
    "# Print orders information for oders dataset\n",
    "orders.info()"
   ]
  },
  {
   "cell_type": "code",
   "execution_count": 6,
   "metadata": {
    "colab": {
     "base_uri": "https://localhost:8080/",
     "height": 204
    },
    "colab_type": "code",
    "id": "D5QCoN3CEaGi",
    "outputId": "01918f16-8ef2-4699-8ed1-4cd78cd9b2d6"
   },
   "outputs": [
    {
     "data": {
      "text/html": [
       "<div>\n",
       "<style scoped>\n",
       "    .dataframe tbody tr th:only-of-type {\n",
       "        vertical-align: middle;\n",
       "    }\n",
       "\n",
       "    .dataframe tbody tr th {\n",
       "        vertical-align: top;\n",
       "    }\n",
       "\n",
       "    .dataframe thead th {\n",
       "        text-align: right;\n",
       "    }\n",
       "</style>\n",
       "<table border=\"1\" class=\"dataframe\">\n",
       "  <thead>\n",
       "    <tr style=\"text-align: right;\">\n",
       "      <th></th>\n",
       "      <th>product_id</th>\n",
       "      <th>product_category_name</th>\n",
       "      <th>product_weight_g</th>\n",
       "      <th>product_length_cm</th>\n",
       "      <th>product_height_cm</th>\n",
       "      <th>product_width_cm</th>\n",
       "    </tr>\n",
       "  </thead>\n",
       "  <tbody>\n",
       "    <tr>\n",
       "      <th>0</th>\n",
       "      <td>1e9e8ef04dbcff4541ed26657ea517e5</td>\n",
       "      <td>perfumaria</td>\n",
       "      <td>225.0</td>\n",
       "      <td>16.0</td>\n",
       "      <td>10.0</td>\n",
       "      <td>14.0</td>\n",
       "    </tr>\n",
       "    <tr>\n",
       "      <th>1</th>\n",
       "      <td>3aa071139cb16b67ca9e5dea641aaa2f</td>\n",
       "      <td>artes</td>\n",
       "      <td>1000.0</td>\n",
       "      <td>30.0</td>\n",
       "      <td>18.0</td>\n",
       "      <td>20.0</td>\n",
       "    </tr>\n",
       "    <tr>\n",
       "      <th>2</th>\n",
       "      <td>96bd76ec8810374ed1b65e291975717f</td>\n",
       "      <td>esporte_lazer</td>\n",
       "      <td>154.0</td>\n",
       "      <td>18.0</td>\n",
       "      <td>9.0</td>\n",
       "      <td>15.0</td>\n",
       "    </tr>\n",
       "    <tr>\n",
       "      <th>3</th>\n",
       "      <td>cef67bcfe19066a932b7673e239eb23d</td>\n",
       "      <td>bebes</td>\n",
       "      <td>371.0</td>\n",
       "      <td>26.0</td>\n",
       "      <td>4.0</td>\n",
       "      <td>26.0</td>\n",
       "    </tr>\n",
       "    <tr>\n",
       "      <th>4</th>\n",
       "      <td>9dc1a7de274444849c219cff195d0b71</td>\n",
       "      <td>utilidades_domesticas</td>\n",
       "      <td>625.0</td>\n",
       "      <td>20.0</td>\n",
       "      <td>17.0</td>\n",
       "      <td>13.0</td>\n",
       "    </tr>\n",
       "  </tbody>\n",
       "</table>\n",
       "</div>"
      ],
      "text/plain": [
       "                         product_id  product_category_name  product_weight_g  \\\n",
       "0  1e9e8ef04dbcff4541ed26657ea517e5             perfumaria             225.0   \n",
       "1  3aa071139cb16b67ca9e5dea641aaa2f                  artes            1000.0   \n",
       "2  96bd76ec8810374ed1b65e291975717f          esporte_lazer             154.0   \n",
       "3  cef67bcfe19066a932b7673e239eb23d                  bebes             371.0   \n",
       "4  9dc1a7de274444849c219cff195d0b71  utilidades_domesticas             625.0   \n",
       "\n",
       "   product_length_cm  product_height_cm  product_width_cm  \n",
       "0               16.0               10.0              14.0  \n",
       "1               30.0               18.0              20.0  \n",
       "2               18.0                9.0              15.0  \n",
       "3               26.0                4.0              26.0  \n",
       "4               20.0               17.0              13.0  "
      ]
     },
     "execution_count": 6,
     "metadata": {},
     "output_type": "execute_result"
    }
   ],
   "source": [
    "# Print products dataset header.\n",
    "products.head()"
   ]
  },
  {
   "cell_type": "code",
   "execution_count": 7,
   "metadata": {
    "colab": {
     "base_uri": "https://localhost:8080/",
     "height": 238
    },
    "colab_type": "code",
    "id": "Gd93j3O_AWsU",
    "outputId": "ca205535-15b4-4c24-8829-87caa5e69d3a"
   },
   "outputs": [
    {
     "name": "stdout",
     "output_type": "stream",
     "text": [
      "<class 'pandas.core.frame.DataFrame'>\n",
      "RangeIndex: 32951 entries, 0 to 32950\n",
      "Data columns (total 6 columns):\n",
      " #   Column                 Non-Null Count  Dtype  \n",
      "---  ------                 --------------  -----  \n",
      " 0   product_id             32951 non-null  object \n",
      " 1   product_category_name  32341 non-null  object \n",
      " 2   product_weight_g       32949 non-null  float64\n",
      " 3   product_length_cm      32949 non-null  float64\n",
      " 4   product_height_cm      32949 non-null  float64\n",
      " 5   product_width_cm       32949 non-null  float64\n",
      "dtypes: float64(4), object(2)\n",
      "memory usage: 1.5+ MB\n"
     ]
    }
   ],
   "source": [
    "# Print products info.\n",
    "products.info()"
   ]
  },
  {
   "cell_type": "code",
   "execution_count": 8,
   "metadata": {
    "colab": {
     "base_uri": "https://localhost:8080/",
     "height": 204
    },
    "colab_type": "code",
    "id": "AzBZGfXJEZ0P",
    "outputId": "2def817c-b13d-464a-c0b9-a6b80c090363"
   },
   "outputs": [
    {
     "data": {
      "text/html": [
       "<div>\n",
       "<style scoped>\n",
       "    .dataframe tbody tr th:only-of-type {\n",
       "        vertical-align: middle;\n",
       "    }\n",
       "\n",
       "    .dataframe tbody tr th {\n",
       "        vertical-align: top;\n",
       "    }\n",
       "\n",
       "    .dataframe thead th {\n",
       "        text-align: right;\n",
       "    }\n",
       "</style>\n",
       "<table border=\"1\" class=\"dataframe\">\n",
       "  <thead>\n",
       "    <tr style=\"text-align: right;\">\n",
       "      <th></th>\n",
       "      <th>product_category_name</th>\n",
       "      <th>product_category_name_english</th>\n",
       "    </tr>\n",
       "  </thead>\n",
       "  <tbody>\n",
       "    <tr>\n",
       "      <th>0</th>\n",
       "      <td>beleza_saude</td>\n",
       "      <td>health_beauty</td>\n",
       "    </tr>\n",
       "    <tr>\n",
       "      <th>1</th>\n",
       "      <td>informatica_acessorios</td>\n",
       "      <td>computers_accessories</td>\n",
       "    </tr>\n",
       "    <tr>\n",
       "      <th>2</th>\n",
       "      <td>automotivo</td>\n",
       "      <td>auto</td>\n",
       "    </tr>\n",
       "    <tr>\n",
       "      <th>3</th>\n",
       "      <td>cama_mesa_banho</td>\n",
       "      <td>bed_bath_table</td>\n",
       "    </tr>\n",
       "    <tr>\n",
       "      <th>4</th>\n",
       "      <td>moveis_decoracao</td>\n",
       "      <td>furniture_decor</td>\n",
       "    </tr>\n",
       "  </tbody>\n",
       "</table>\n",
       "</div>"
      ],
      "text/plain": [
       "    product_category_name product_category_name_english\n",
       "0            beleza_saude                 health_beauty\n",
       "1  informatica_acessorios         computers_accessories\n",
       "2              automotivo                          auto\n",
       "3         cama_mesa_banho                bed_bath_table\n",
       "4        moveis_decoracao               furniture_decor"
      ]
     },
     "execution_count": 8,
     "metadata": {},
     "output_type": "execute_result"
    }
   ],
   "source": [
    "# Print translations header.\n",
    "translations.head()"
   ]
  },
  {
   "cell_type": "code",
   "execution_count": 9,
   "metadata": {
    "colab": {},
    "colab_type": "code",
    "id": "l4ci_uMgy81Z"
   },
   "outputs": [
    {
     "name": "stdout",
     "output_type": "stream",
     "text": [
      "<class 'pandas.core.frame.DataFrame'>\n",
      "RangeIndex: 71 entries, 0 to 70\n",
      "Data columns (total 2 columns):\n",
      " #   Column                         Non-Null Count  Dtype \n",
      "---  ------                         --------------  ----- \n",
      " 0   product_category_name          71 non-null     object\n",
      " 1   product_category_name_english  71 non-null     object\n",
      "dtypes: object(2)\n",
      "memory usage: 1.2+ KB\n"
     ]
    }
   ],
   "source": [
    "# Print translations info.\n",
    "translations.info()"
   ]
  },
  {
   "cell_type": "markdown",
   "metadata": {
    "colab_type": "text",
    "id": "sC5SO_1LgNO5"
   },
   "source": [
    "---\n",
    "<center><h1> Q&A 1</h1> </center>\n",
    "\n",
    "---"
   ]
  },
  {
   "cell_type": "markdown",
   "metadata": {
    "colab_type": "text",
    "id": "3bGr9T2DGo20"
   },
   "source": [
    "### **Translating item category names**"
   ]
  },
  {
   "cell_type": "markdown",
   "metadata": {
    "colab_type": "text",
    "id": "e9Y2uCaKwl3j"
   },
   "source": [
    "**The product names are given in Portuguese.**\n",
    "  * We'll translate the names to English using a `pandas` `DataFrame` named `translations`.\n",
    "  * `.merge()` performs a join operation on columns or indices.\n",
    "  * `on` is the column on which to perform the join.\n",
    "  * `how` specifies which keys to use to perform the join. "
   ]
  },
  {
   "cell_type": "code",
   "execution_count": 10,
   "metadata": {},
   "outputs": [
    {
     "data": {
      "text/plain": [
       "0                          perfume\n",
       "1                              art\n",
       "2                   sports_leisure\n",
       "3                             baby\n",
       "4                       housewares\n",
       "                   ...            \n",
       "32946              furniture_decor\n",
       "32947    construction_tools_lights\n",
       "32948               bed_bath_table\n",
       "32949        computers_accessories\n",
       "32950               bed_bath_table\n",
       "Name: product_category_name_english, Length: 32951, dtype: object"
      ]
     },
     "execution_count": 10,
     "metadata": {},
     "output_type": "execute_result"
    }
   ],
   "source": [
    "# Translate product names to English.\n",
    "products = products.merge(translations, on='product_category_name', how=\"left\")\n",
    "\n",
    "# Print English names.\n",
    "products['product_category_name_english']"
   ]
  },
  {
   "cell_type": "markdown",
   "metadata": {},
   "source": [
    "0                          perfume\n",
    "1                              art\n",
    "2                   sports_leisure\n",
    "3                             baby\n",
    "4                       housewares\n",
    "                   ...            \n",
    "32946              furniture_decor\n",
    "32947    construction_tools_lights\n",
    "32948               bed_bath_table\n",
    "32949        computers_accessories\n",
    "32950               bed_bath_table\n",
    "Name: product_category_name_english, Length: 32951, dtype: object"
   ]
  },
  {
   "cell_type": "markdown",
   "metadata": {
    "colab_type": "text",
    "id": "FVqfYEjwHXZM"
   },
   "source": [
    "### **Convert product IDs to product category names.**"
   ]
  },
  {
   "cell_type": "markdown",
   "metadata": {
    "colab_type": "text",
    "id": "welfsnP1xJzC"
   },
   "source": [
    "**We can work with product IDs directly, but do not have product names.**\n",
    "  * Map product IDs to product category names, which are available in `products`.\n",
    "  * Use another `.merge()` with `orders` and subset of `products` columns.\n",
    "  \n",
    "**Using category names will also simplify the analysis, since there are fewer categories than products.**"
   ]
  },
  {
   "cell_type": "code",
   "execution_count": 11,
   "metadata": {
    "colab": {},
    "colab_type": "code",
    "id": "H1wmY51JtTu7"
   },
   "outputs": [],
   "source": [
    "# Define product category name in orders DataFrame.\n",
    "orders = orders.merge(products[['product_id','product_category_name_english']], on='product_id', how='left')"
   ]
  },
  {
   "cell_type": "code",
   "execution_count": 12,
   "metadata": {
    "colab": {},
    "colab_type": "code",
    "id": "kogImVcnu4q7"
   },
   "outputs": [
    {
     "data": {
      "text/html": [
       "<div>\n",
       "<style scoped>\n",
       "    .dataframe tbody tr th:only-of-type {\n",
       "        vertical-align: middle;\n",
       "    }\n",
       "\n",
       "    .dataframe tbody tr th {\n",
       "        vertical-align: top;\n",
       "    }\n",
       "\n",
       "    .dataframe thead th {\n",
       "        text-align: right;\n",
       "    }\n",
       "</style>\n",
       "<table border=\"1\" class=\"dataframe\">\n",
       "  <thead>\n",
       "    <tr style=\"text-align: right;\">\n",
       "      <th></th>\n",
       "      <th>order_id</th>\n",
       "      <th>order_item_id</th>\n",
       "      <th>product_id</th>\n",
       "      <th>price</th>\n",
       "      <th>product_category_name_english</th>\n",
       "    </tr>\n",
       "  </thead>\n",
       "  <tbody>\n",
       "    <tr>\n",
       "      <th>0</th>\n",
       "      <td>b8bfa12431142333a0c84802f9529d87</td>\n",
       "      <td>1</td>\n",
       "      <td>765a8070ece0f1383d0f5faf913dfb9b</td>\n",
       "      <td>81.0</td>\n",
       "      <td>sports_leisure</td>\n",
       "    </tr>\n",
       "    <tr>\n",
       "      <th>1</th>\n",
       "      <td>b8bfa12431142333a0c84802f9529d87</td>\n",
       "      <td>2</td>\n",
       "      <td>a41e356c76fab66334f36de622ecbd3a</td>\n",
       "      <td>99.3</td>\n",
       "      <td>NaN</td>\n",
       "    </tr>\n",
       "    <tr>\n",
       "      <th>2</th>\n",
       "      <td>b8bfa12431142333a0c84802f9529d87</td>\n",
       "      <td>3</td>\n",
       "      <td>765a8070ece0f1383d0f5faf913dfb9b</td>\n",
       "      <td>81.0</td>\n",
       "      <td>sports_leisure</td>\n",
       "    </tr>\n",
       "    <tr>\n",
       "      <th>3</th>\n",
       "      <td>00010242fe8c5a6d1ba2dd792cb16214</td>\n",
       "      <td>1</td>\n",
       "      <td>4244733e06e7ecb4970a6e2683c13e61</td>\n",
       "      <td>58.9</td>\n",
       "      <td>cool_stuff</td>\n",
       "    </tr>\n",
       "    <tr>\n",
       "      <th>4</th>\n",
       "      <td>00018f77f2f0320c557190d7a144bdd3</td>\n",
       "      <td>1</td>\n",
       "      <td>e5f2d52b802189ee658865ca93d83a8f</td>\n",
       "      <td>239.9</td>\n",
       "      <td>pet_shop</td>\n",
       "    </tr>\n",
       "  </tbody>\n",
       "</table>\n",
       "</div>"
      ],
      "text/plain": [
       "                           order_id  order_item_id  \\\n",
       "0  b8bfa12431142333a0c84802f9529d87              1   \n",
       "1  b8bfa12431142333a0c84802f9529d87              2   \n",
       "2  b8bfa12431142333a0c84802f9529d87              3   \n",
       "3  00010242fe8c5a6d1ba2dd792cb16214              1   \n",
       "4  00018f77f2f0320c557190d7a144bdd3              1   \n",
       "\n",
       "                         product_id  price product_category_name_english  \n",
       "0  765a8070ece0f1383d0f5faf913dfb9b   81.0                sports_leisure  \n",
       "1  a41e356c76fab66334f36de622ecbd3a   99.3                           NaN  \n",
       "2  765a8070ece0f1383d0f5faf913dfb9b   81.0                sports_leisure  \n",
       "3  4244733e06e7ecb4970a6e2683c13e61   58.9                    cool_stuff  \n",
       "4  e5f2d52b802189ee658865ca93d83a8f  239.9                      pet_shop  "
      ]
     },
     "execution_count": 12,
     "metadata": {},
     "output_type": "execute_result"
    }
   ],
   "source": [
    "# Print orders header.\n",
    "orders.head()"
   ]
  },
  {
   "cell_type": "code",
   "execution_count": 13,
   "metadata": {
    "colab": {},
    "colab_type": "code",
    "id": "J906oRHjgsZE"
   },
   "outputs": [],
   "source": [
    "# Drop products without a defined category.\n",
    "orders = orders.dropna(subset=['product_category_name_english'])\n"
   ]
  },
  {
   "cell_type": "code",
   "execution_count": 14,
   "metadata": {
    "colab": {},
    "colab_type": "code",
    "id": "S0DEdAgkfke2"
   },
   "outputs": [
    {
     "name": "stdout",
     "output_type": "stream",
     "text": [
      "\n",
      "Number of Unique Items:\n",
      "32328\n"
     ]
    }
   ],
   "source": [
    "# Print number of unique items.\n",
    "print(\"\\nNumber of Unique Items:\")\n",
    "print(orders['product_id'].nunique())"
   ]
  },
  {
   "cell_type": "code",
   "execution_count": 15,
   "metadata": {
    "colab": {},
    "colab_type": "code",
    "id": "sp_ZZcj7IEMD"
   },
   "outputs": [
    {
     "name": "stdout",
     "output_type": "stream",
     "text": [
      "\n",
      "Number of Unique Categories:\n",
      "71\n"
     ]
    }
   ],
   "source": [
    "# Print number of unique categories.\n",
    "print(\"\\nNumber of Unique Categories:\")\n",
    "print(orders['product_category_name_english'].nunique())"
   ]
  },
  {
   "cell_type": "markdown",
   "metadata": {
    "colab_type": "text",
    "id": "_z5WqVXFIn23"
   },
   "source": [
    "### **Construct transactions from order and product data**"
   ]
  },
  {
   "cell_type": "code",
   "execution_count": 16,
   "metadata": {
    "colab": {},
    "colab_type": "code",
    "id": "LObvSR1bfs8N"
   },
   "outputs": [
    {
     "name": "stdout",
     "output_type": "stream",
     "text": [
      "\n",
      "Example Order (fe64170e936bc5f6a6a41def260984b9):\n",
      "111984     bed_bath_table\n",
      "111985    furniture_decor\n",
      "Name: product_category_name_english, dtype: object\n"
     ]
    }
   ],
   "source": [
    "# Identify transactions associated with example order.\n",
    "example1 = orders[orders['order_id'] == 'fe64170e936bc5f6a6a41def260984b9']['product_category_name_english']\n",
    "\n",
    "# Print example.\n",
    "print(\"\\nExample Order (fe64170e936bc5f6a6a41def260984b9):\")\n",
    "print(example1)"
   ]
  },
  {
   "cell_type": "code",
   "execution_count": 17,
   "metadata": {
    "colab": {},
    "colab_type": "code",
    "id": "B2EEHJpPWOVJ"
   },
   "outputs": [
    {
     "name": "stdout",
     "output_type": "stream",
     "text": [
      "\n",
      "Example Order (fffb9224b6fc7c43ebb0904318b10b5f):\n",
      "112640    watches_gifts\n",
      "112641    watches_gifts\n",
      "112642    watches_gifts\n",
      "112643    watches_gifts\n",
      "Name: product_category_name_english, dtype: object\n"
     ]
    }
   ],
   "source": [
    "# Identify transactions associated with example order.\n",
    "example2 = orders[orders['order_id'] == 'fffb9224b6fc7c43ebb0904318b10b5f']['product_category_name_english']\n",
    "\n",
    "# Print example.\n",
    "print(\"\\nExample Order (fffb9224b6fc7c43ebb0904318b10b5f):\")\n",
    "print(example2)"
   ]
  },
  {
   "cell_type": "code",
   "execution_count": 18,
   "metadata": {
    "colab": {},
    "colab_type": "code",
    "id": "nXES2DJ3Ry8l"
   },
   "outputs": [
    {
     "name": "stdout",
     "output_type": "stream",
     "text": [
      "\n",
      "Transactions Header:\n",
      "0         [cool_stuff]\n",
      "1           [pet_shop]\n",
      "2    [furniture_decor]\n",
      "3            [perfume]\n",
      "4       [garden_tools]\n",
      "Name: product_category_name_english, dtype: object\n"
     ]
    }
   ],
   "source": [
    "# Recover transaction itemsets from orders DataFrame.\n",
    "transactions = orders.groupby('order_id')['product_category_name_english'].apply(list)\n",
    "transactions = transactions.reset_index(drop=True)\n",
    "\n",
    "# Print transactions header.\n",
    "print(\"\\nTransactions Header:\")\n",
    "print(transactions.head())"
   ]
  },
  {
   "cell_type": "code",
   "execution_count": 19,
   "metadata": {
    "colab": {
     "base_uri": "https://localhost:8080/",
     "height": 564
    },
    "colab_type": "code",
    "id": "l06VMDNQfzqZ",
    "outputId": "bcf16881-eabe-4f22-b70a-18c097c4c0a8"
   },
   "outputs": [
    {
     "data": {
      "image/png": "[encoded data removed]",
      "text/plain": [
       "<Figure size 1600x800 with 1 Axes>"
      ]
     },
     "metadata": {},
     "output_type": "display_data"
    }
   ],
   "source": [
    "# Plot 50 largest categories of transactions.\n",
    "category_counts = orders['product_category_name_english'].value_counts().nlargest(50)\n",
    "plt.figure(figsize=(16, 8))\n",
    "category_counts.plot(kind='bar')\n",
    "plt.title('Top 50 Product Categories')\n",
    "plt.xlabel('Product Category')\n",
    "plt.ylabel('Number of Transactions')\n",
    "plt.xticks(rotation=90)\n",
    "plt.show()"
   ]
  },
  {
   "cell_type": "markdown",
   "metadata": {
    "colab_type": "text",
    "id": "aDSZJBjJT3Iw"
   },
   "source": [
    "## ** Give any two insights from your above analysis:**\n",
    "<br>1. Dominance of Bed, Bath & Table: The \"bed_bath_table\" category has a significantly higher number of transactions compared to other categories. This suggests that products related to home furnishings and linens are very popular among customers.\n",
    "\n",
    "<br>\n",
    "2.Health & Beauty as a Strong Second: \"Health_beauty\" is the second most frequent category. This suggests a strong market for personal care and beauty products within this e-commerce platform. These product could also bundled and market together to further boost sales.\n",
    "\n"
   ]
  },
  {
   "cell_type": "code",
   "execution_count": 20,
   "metadata": {
    "colab": {},
    "colab_type": "code",
    "id": "nrBBAg9kf5R1"
   },
   "outputs": [],
   "source": [
    "# Convert the pandas series to list of lists.\n",
    "transactions_list = transactions.tolist()"
   ]
  },
  {
   "cell_type": "markdown",
   "metadata": {
    "colab_type": "text",
    "id": "J_JdOGzOVUed"
   },
   "source": [
    "### **Summarize final transaction data**"
   ]
  },
  {
   "cell_type": "code",
   "execution_count": 21,
   "metadata": {
    "colab": {},
    "colab_type": "code",
    "id": "NXo1XlNh2nvV"
   },
   "outputs": [
    {
     "name": "stdout",
     "output_type": "stream",
     "text": [
      "\n",
      "Number of Transactions:\n",
      "97256\n"
     ]
    }
   ],
   "source": [
    "# Print length of transactions.\n",
    "print(\"\\nNumber of Transactions:\")\n",
    "print(len(transactions_list))\n"
   ]
  },
  {
   "cell_type": "code",
   "execution_count": 22,
   "metadata": {
    "colab": {},
    "colab_type": "code",
    "id": "KHWb2YGe2n__"
   },
   "outputs": [],
   "source": [
    "# Count number of unique item categories for each transaction.\n",
    "num_unique_items = [len(set(transaction)) for transaction in transactions_list]\n"
   ]
  },
  {
   "cell_type": "code",
   "execution_count": 23,
   "metadata": {
    "colab": {},
    "colab_type": "code",
    "id": "5dcX5qwN2njx"
   },
   "outputs": [
    {
     "name": "stdout",
     "output_type": "stream",
     "text": [
      "\n",
      "Median Number of Items in a Transaction:\n",
      "1.0\n"
     ]
    }
   ],
   "source": [
    "# Print median number of items in a transaction.\n",
    "print(\"\\nMedian Number of Items in a Transaction:\")\n",
    "print(np.median(num_unique_items))"
   ]
  },
  {
   "cell_type": "code",
   "execution_count": 24,
   "metadata": {
    "colab": {},
    "colab_type": "code",
    "id": "bZm2vOczf7mB"
   },
   "outputs": [
    {
     "name": "stdout",
     "output_type": "stream",
     "text": [
      "\n",
      "Maximum Number of Items in a Transaction:\n",
      "3\n"
     ]
    }
   ],
   "source": [
    "# Print maximum number of items in a transaction.\n",
    "print(\"\\nMaximum Number of Items in a Transaction:\")\n",
    "print(np.max(num_unique_items))"
   ]
  },
  {
   "cell_type": "markdown",
   "metadata": {
    "colab_type": "text",
    "id": "tXqmKHdXiCt6"
   },
   "source": [
    "## **Association Rules and Metrics**"
   ]
  },
  {
   "cell_type": "code",
   "execution_count": 25,
   "metadata": {
    "colab": {},
    "colab_type": "code",
    "id": "PADu6cwylDWC"
   },
   "outputs": [],
   "source": [
    "from mlxtend.preprocessing import TransactionEncoder\n",
    "\n",
    "# Instantiate an encoder.\n",
    "encoder = TransactionEncoder()\n",
    "\n",
    "# Fit encoder to list of lists.\n",
    "encoder.fit(transactions_list)\n",
    "# Transform lists into one-hot encoded array.\n",
    "one_hot = encoder.transform(transactions_list)\n",
    "# Convert array to pandas DataFrame.\n",
    "one_hot_df = pd.DataFrame(one_hot, columns=encoder.columns_)"
   ]
  },
  {
   "cell_type": "code",
   "execution_count": 26,
   "metadata": {
    "colab": {},
    "colab_type": "code",
    "id": "uXvgq0wclEZ_"
   },
   "outputs": [
    {
     "name": "stdout",
     "output_type": "stream",
     "text": [
      "\n",
      "One-Hot Encoded DataFrame Header:\n",
      "   agro_industry_and_commerce  air_conditioning    art  arts_and_crafts  \\\n",
      "0                       False             False  False            False   \n",
      "1                       False             False  False            False   \n",
      "2                       False             False  False            False   \n",
      "3                       False             False  False            False   \n",
      "4                       False             False  False            False   \n",
      "\n",
      "   audio   auto   baby  bed_bath_table  books_general_interest  \\\n",
      "0  False  False  False           False                   False   \n",
      "1  False  False  False           False                   False   \n",
      "2  False  False  False           False                   False   \n",
      "3  False  False  False           False                   False   \n",
      "4  False  False  False           False                   False   \n",
      "\n",
      "   books_imported  ...  security_and_services  signaling_and_security  \\\n",
      "0           False  ...                  False                   False   \n",
      "1           False  ...                  False                   False   \n",
      "2           False  ...                  False                   False   \n",
      "3           False  ...                  False                   False   \n",
      "4           False  ...                  False                   False   \n",
      "\n",
      "   small_appliances  small_appliances_home_oven_and_coffee  sports_leisure  \\\n",
      "0             False                                  False           False   \n",
      "1             False                                  False           False   \n",
      "2             False                                  False           False   \n",
      "3             False                                  False           False   \n",
      "4             False                                  False           False   \n",
      "\n",
      "   stationery  tablets_printing_image  telephony   toys  watches_gifts  \n",
      "0       False                   False      False  False          False  \n",
      "1       False                   False      False  False          False  \n",
      "2       False                   False      False  False          False  \n",
      "3       False                   False      False  False          False  \n",
      "4       False                   False      False  False          False  \n",
      "\n",
      "[5 rows x 71 columns]\n"
     ]
    }
   ],
   "source": [
    "# Print header.\n",
    "print(\"\\nOne-Hot Encoded DataFrame Header:\")\n",
    "print(one_hot_df.head())"
   ]
  },
  {
   "cell_type": "code",
   "execution_count": 27,
   "metadata": {
    "colab": {},
    "colab_type": "code",
    "id": "n3E8jFSelMRj"
   },
   "outputs": [
    {
     "name": "stdout",
     "output_type": "stream",
     "text": [
      "\n",
      "Support Metric per Category:\n",
      "agro_industry_and_commerce    0.001871\n",
      "air_conditioning              0.002601\n",
      "art                           0.002077\n",
      "arts_and_crafts               0.000236\n",
      "audio                         0.003599\n",
      "                                ...   \n",
      "stationery                    0.023762\n",
      "tablets_printing_image        0.000812\n",
      "telephony                     0.043175\n",
      "toys                          0.039956\n",
      "watches_gifts                 0.057827\n",
      "Length: 71, dtype: float64\n"
     ]
    }
   ],
   "source": [
    "# Print support metric over all rows for each column.\n",
    "support = one_hot_df.mean()\n",
    "print(\"\\nSupport Metric per Category:\")\n",
    "print(support)"
   ]
  },
  {
   "cell_type": "markdown",
   "metadata": {
    "colab_type": "text",
    "id": "k4xq0z7IdwmS"
   },
   "source": [
    "### **Describe the support metric observations:** \n",
    "<br> 1. \n",
    "<br>2. <br>\n",
    "3.\n",
    "\n"
   ]
  },
  {
   "cell_type": "markdown",
   "metadata": {
    "colab_type": "text",
    "id": "7NNdtDOXiC8z"
   },
   "source": [
    "### **Compute the item count distribution over transactions**"
   ]
  },
  {
   "cell_type": "code",
   "execution_count": 28,
   "metadata": {
    "colab": {},
    "colab_type": "code",
    "id": "q87IRIx0lR9U"
   },
   "outputs": [
    {
     "name": "stdout",
     "output_type": "stream",
     "text": [
      "\n",
      "Distribution of Item Counts:\n",
      "count    97256.000000\n",
      "mean         1.007619\n",
      "std          0.088711\n",
      "min          1.000000\n",
      "25%          1.000000\n",
      "50%          1.000000\n",
      "75%          1.000000\n",
      "max          3.000000\n",
      "dtype: float64\n"
     ]
    }
   ],
   "source": [
    "# Print distribution of item counts.\n",
    "item_counts = one_hot_df.sum(axis=1)\n",
    "print(\"\\nDistribution of Item Counts:\")\n",
    "print(item_counts.describe())"
   ]
  },
  {
   "cell_type": "markdown",
   "metadata": {
    "colab_type": "text",
    "id": "fWmrboxOhnr4"
   },
   "source": [
    "## ** Give any two insights from your above analysis:**\n",
    "<br>1. <br>\n",
    "2.\n",
    "\n"
   ]
  },
  {
   "cell_type": "markdown",
   "metadata": {
    "colab_type": "text",
    "id": "fj7yQ2DqiQkh"
   },
   "source": [
    "### **Create a column for an itemset with multiple items**"
   ]
  },
  {
   "cell_type": "code",
   "execution_count": 29,
   "metadata": {
    "colab": {},
    "colab_type": "code",
    "id": "immnq5stlWaf"
   },
   "outputs": [
    {
     "name": "stdout",
     "output_type": "stream",
     "text": [
      "\n",
      "Support value after add 'sports_leisure' and 'health_beauty' features:\n",
      "sports_leisure    1.0\n",
      "health_beauty     1.0\n",
      "dtype: float64\n"
     ]
    }
   ],
   "source": [
    "# Add sports_leisure and health_beauty to DataFrame.\n",
    "one_hot_df['sports_leisure'] = orders['product_category_name_english'].str.contains('sports_leisure', case=False).any()\n",
    "one_hot_df['health_beauty'] = orders['product_category_name_english'].str.contains('health_beauty', case=False).any()\n",
    "\n",
    "# Print support value.\n",
    "print(\"\\nSupport value after add 'sports_leisure' and 'health_beauty' features:\")\n",
    "print(one_hot_df[['sports_leisure','health_beauty']].mean())"
   ]
  },
  {
   "cell_type": "markdown",
   "metadata": {
    "colab_type": "text",
    "id": "VHlEhjUuikdj"
   },
   "source": [
    "## ** Give any two insights from your above analysis:**\n",
    "<br>1. <br>\n",
    "2.\n",
    "\n"
   ]
  },
  {
   "cell_type": "markdown",
   "metadata": {
    "colab_type": "text",
    "id": "BvoKwShnjC4z"
   },
   "source": [
    "### **Aggregate the dataset further by combining product sub-categories**"
   ]
  },
  {
   "cell_type": "code",
   "execution_count": 30,
   "metadata": {
    "colab": {},
    "colab_type": "code",
    "id": "qLGroyNZlX1U"
   },
   "outputs": [
    {
     "name": "stdout",
     "output_type": "stream",
     "text": [
      "Support value for 'books': 0.003218310438430534\n",
      "Support value for 'books_imported': 0.0005449535247182693\n",
      "Support value for 'books_technical': 0.0026733569137122647\n"
     ]
    }
   ],
   "source": [
    "# Merge books_imported and books_technical.\n",
    "one_hot_df['books'] = one_hot_df['books_imported'] | one_hot_df['books_technical']\n",
    "\n",
    "# Remove the original columns\n",
    "one_hot_df = one_hot_df.drop(['books_imported', 'books_technical'], axis=1)\n",
    "\n",
    "# Print support values for books, books_imported, and books_technical\n",
    "print(\"Support value for 'books':\", one_hot_df['books'].mean())\n",
    "print(\"Support value for 'books_imported':\", support['books_imported'])\n",
    "print(\"Support value for 'books_technical':\", support['books_technical'])\n",
    "\n"
   ]
  },
  {
   "cell_type": "markdown",
   "metadata": {
    "colab_type": "text",
    "id": "9E2CHkMfqHx8"
   },
   "source": [
    "### **Compute the confidence metric**"
   ]
  },
  {
   "cell_type": "code",
   "execution_count": 31,
   "metadata": {
    "colab": {},
    "colab_type": "code",
    "id": "US-Z5hs7qGFl"
   },
   "outputs": [
    {
     "name": "stdout",
     "output_type": "stream",
     "text": [
      "\n",
      "Joint Support (sports_leisure and health_beauty):\n",
      "1.0\n",
      "\n",
      "Confidence (sports_leisure -> health_beauty):\n",
      "1.0\n"
     ]
    }
   ],
   "source": [
    "# Compute joint support for sports_leisure and health_beauty.\n",
    "joint_support = (one_hot_df['sports_leisure'] & one_hot_df['health_beauty']).mean()\n",
    "print(\"\\nJoint Support (sports_leisure and health_beauty):\")\n",
    "print(joint_support)\n",
    "# Print confidence metric for sports_leisure -> health_beauty.\n",
    "confidence_sports_to_health = (one_hot_df[one_hot_df['sports_leisure']]['health_beauty']).mean()\n",
    "print(\"\\nConfidence (sports_leisure -> health_beauty):\")\n",
    "print(confidence_sports_to_health)"
   ]
  },
  {
   "cell_type": "code",
   "execution_count": 32,
   "metadata": {
    "colab": {},
    "colab_type": "code",
    "id": "oRacycCMtKeh"
   },
   "outputs": [
    {
     "name": "stdout",
     "output_type": "stream",
     "text": [
      "\n",
      "Confidence (health_beauty -> sports_leisure):\n",
      "1.0\n"
     ]
    }
   ],
   "source": [
    "# Print confidence for health_beauty -> sports_leisure.\n",
    "confidence_health_to_sports = (one_hot_df[one_hot_df['health_beauty']]['sports_leisure']).mean()\n",
    "print(\"\\nConfidence (health_beauty -> sports_leisure):\")\n",
    "print(confidence_health_to_sports)"
   ]
  },
  {
   "cell_type": "markdown",
   "metadata": {
    "colab_type": "text",
    "id": "QC_SuQBMtRsa"
   },
   "source": [
    "## ** Give any three insights from your confidence metric analysis:**\n",
    "<br>1. \n",
    "<br>2. <br>\n",
    "3.\n",
    "\n"
   ]
  },
  {
   "cell_type": "markdown",
   "metadata": {
    "colab_type": "text",
    "id": "RPqHxNBczJFD"
   },
   "source": [
    "### **Applying the Apriori algorithm**"
   ]
  },
  {
   "cell_type": "markdown",
   "metadata": {
    "colab_type": "text",
    "id": "_9_EnUE5NSYC"
   },
   "source": [
    "* Use `apriori()` to identify frequent itemsets.\n",
    "* `min_support` set the item frequency threshold used for pruning."
   ]
  },
  {
   "cell_type": "code",
   "execution_count": 33,
   "metadata": {
    "colab": {},
    "colab_type": "code",
    "id": "oTdaZ39VljgV"
   },
   "outputs": [
    {
     "name": "stdout",
     "output_type": "stream",
     "text": [
      "\n",
      "Frequent Itemsets (min_support=0.01):\n",
      "     support                                        itemsets\n",
      "0   0.040070                                          (auto)\n",
      "1   0.029664                                          (baby)\n",
      "2   0.096827                                (bed_bath_table)\n",
      "3   0.068777                         (computers_accessories)\n",
      "4   0.010920                                (consoles_games)\n",
      "..       ...                                             ...\n",
      "74  0.017582       (pet_shop, health_beauty, sports_leisure)\n",
      "75  0.023762     (sports_leisure, stationery, health_beauty)\n",
      "76  0.043175      (sports_leisure, health_beauty, telephony)\n",
      "77  0.039956           (sports_leisure, toys, health_beauty)\n",
      "78  0.057827  (watches_gifts, health_beauty, sports_leisure)\n",
      "\n",
      "[79 rows x 2 columns]\n"
     ]
    }
   ],
   "source": [
    "# Apply apriori algorithm to data with min support threshold of 0.01.\n",
    "frequent_itemsets_001 = apriori(one_hot_df, min_support=0.01, use_colnames=True)\n",
    "\n",
    "# Print frequent itemsets.\n",
    "print(\"\\nFrequent Itemsets (min_support=0.01):\")\n",
    "print(frequent_itemsets_001)\n"
   ]
  },
  {
   "cell_type": "markdown",
   "metadata": {
    "colab_type": "text",
    "id": "iQ3gYEK2yPCi"
   },
   "source": [
    "## ** What are the insights you observed from your above analysis:**\n",
    "<br>1. <br>\n",
    "2.\n",
    "\n"
   ]
  },
  {
   "cell_type": "code",
   "execution_count": 34,
   "metadata": {
    "colab": {},
    "colab_type": "code",
    "id": "L_MrF6Ckllde"
   },
   "outputs": [
    {
     "name": "stdout",
     "output_type": "stream",
     "text": [
      "\n",
      "Frequent Itemsets (min_support=0.001):\n",
      "      support                                        itemsets\n",
      "0    0.001871                    (agro_industry_and_commerce)\n",
      "1    0.002601                              (air_conditioning)\n",
      "2    0.002077                                           (art)\n",
      "3    0.003599                                         (audio)\n",
      "4    0.040070                                          (auto)\n",
      "..        ...                                             ...\n",
      "194  0.023762     (sports_leisure, stationery, health_beauty)\n",
      "195  0.043175      (sports_leisure, health_beauty, telephony)\n",
      "196  0.039956           (sports_leisure, toys, health_beauty)\n",
      "197  0.057827  (watches_gifts, health_beauty, sports_leisure)\n",
      "198  0.003218          (sports_leisure, health_beauty, books)\n",
      "\n",
      "[199 rows x 2 columns]\n"
     ]
    }
   ],
   "source": [
    "# Apply apriori algorithm to data with min support threshold of 0.001.\n",
    "frequent_itemsets_0001 = apriori(one_hot_df, min_support=0.001, use_colnames=True)\n",
    "\n",
    "# Print frequent itemsets.\n",
    "print(\"\\nFrequent Itemsets (min_support=0.001):\")\n",
    "print(frequent_itemsets_0001)"
   ]
  },
  {
   "cell_type": "markdown",
   "metadata": {
    "colab_type": "text",
    "id": "jHkW8KmCyp0h"
   },
   "source": [
    "## ** Give any two insights from your above analysis:**\n",
    "<br>1. <br>\n",
    "2.\n",
    "\n"
   ]
  },
  {
   "cell_type": "code",
   "execution_count": 35,
   "metadata": {
    "colab": {},
    "colab_type": "code",
    "id": "lT7h9l_Glnf6"
   },
   "outputs": [
    {
     "name": "stdout",
     "output_type": "stream",
     "text": [
      "\n",
      "Frequent Itemsets (min_support=0.00005):\n",
      "      support                                           itemsets\n",
      "0    0.001871                       (agro_industry_and_commerce)\n",
      "1    0.002601                                 (air_conditioning)\n",
      "2    0.002077                                              (art)\n",
      "3    0.000236                                  (arts_and_crafts)\n",
      "4    0.003599                                            (audio)\n",
      "..        ...                                                ...\n",
      "390  0.000072  (watches_gifts, health_beauty, sports_leisure,...\n",
      "391  0.000072  (sports_leisure, health_beauty, garden_tools, ...\n",
      "392  0.000113  (sports_leisure, health_beauty, housewares, ga...\n",
      "393  0.000051  (luggage_accessories, stationery, health_beaut...\n",
      "394  0.000062  (sports_leisure, stationery, health_beauty, toys)\n",
      "\n",
      "[395 rows x 2 columns]\n"
     ]
    }
   ],
   "source": [
    "# Apply apriori algorithm to data with min support threshold of 0.00005.\n",
    "frequent_itemsets_00005 = apriori(one_hot_df, min_support=0.00005, use_colnames=True)\n",
    "\n",
    "\n",
    "# Print frequent itemsets.\n",
    "print(\"\\nFrequent Itemsets (min_support=0.00005):\")\n",
    "print(frequent_itemsets_00005)"
   ]
  },
  {
   "cell_type": "code",
   "execution_count": 36,
   "metadata": {
    "colab": {},
    "colab_type": "code",
    "id": "j273yq0Alo0H"
   },
   "outputs": [],
   "source": [
    "# Apply apriori algorithm to data with a two-item limit.\n",
    "frequent_itemsets_2item = apriori(one_hot_df, min_support=0.001, use_colnames=True, max_len=2)"
   ]
  },
  {
   "cell_type": "markdown",
   "metadata": {
    "colab_type": "text",
    "id": "kBAjlmz-zuWk"
   },
   "source": [
    "### **Computing association rules from Apriori output**"
   ]
  },
  {
   "cell_type": "code",
   "execution_count": 37,
   "metadata": {
    "colab": {},
    "colab_type": "code",
    "id": "AF6jhDkmlpM8"
   },
   "outputs": [
    {
     "name": "stdout",
     "output_type": "stream",
     "text": [
      "\n",
      "Association Rules (metric=support, min_threshold=0.0001):\n",
      "                    antecedents                   consequents  \\\n",
      "0               (health_beauty)  (agro_industry_and_commerce)   \n",
      "1  (agro_industry_and_commerce)               (health_beauty)   \n",
      "2              (sports_leisure)  (agro_industry_and_commerce)   \n",
      "3  (agro_industry_and_commerce)              (sports_leisure)   \n",
      "4               (health_beauty)            (air_conditioning)   \n",
      "\n",
      "   antecedent support  consequent support   support  confidence  lift  \\\n",
      "0            1.000000            0.001871  0.001871    0.001871   1.0   \n",
      "1            0.001871            1.000000  0.001871    1.000000   1.0   \n",
      "2            1.000000            0.001871  0.001871    0.001871   1.0   \n",
      "3            0.001871            1.000000  0.001871    1.000000   1.0   \n",
      "4            1.000000            0.002601  0.002601    0.002601   1.0   \n",
      "\n",
      "   representativity  leverage  conviction  zhangs_metric   jaccard  certainty  \\\n",
      "0               1.0       0.0         1.0            0.0  0.001871        0.0   \n",
      "1               1.0       0.0         inf            0.0  0.001871        0.0   \n",
      "2               1.0       0.0         1.0            0.0  0.001871        0.0   \n",
      "3               1.0       0.0         inf            0.0  0.001871        0.0   \n",
      "4               1.0       0.0         1.0            0.0  0.002601        0.0   \n",
      "\n",
      "   kulczynski  \n",
      "0    0.500936  \n",
      "1    0.500936  \n",
      "2    0.500936  \n",
      "3    0.500936  \n",
      "4    0.501301  \n"
     ]
    },
    {
     "name": "stderr",
     "output_type": "stream",
     "text": [
      "C:\\Users\\siddh\\AppData\\Roaming\\Python\\Python39\\site-packages\\mlxtend\\frequent_patterns\\association_rules.py:186: RuntimeWarning: invalid value encountered in divide\n",
      "  cert_metric = np.where(certainty_denom == 0, 0, certainty_num / certainty_denom)\n"
     ]
    }
   ],
   "source": [
    "from mlxtend.frequent_patterns import association_rules\n",
    "\n",
    "# Recover association rules using support and a minimum threshold of 0.0001.\n",
    "rules_support = association_rules(frequent_itemsets_0001, metric=\"support\", min_threshold=0.0001)\n",
    "\n",
    "# Print rules header.\n",
    "print(\"\\nAssociation Rules (metric=support, min_threshold=0.0001):\")\n",
    "print(rules_support.head())"
   ]
  },
  {
   "cell_type": "markdown",
   "metadata": {
    "colab_type": "text",
    "id": "sz3aVycbz6pt"
   },
   "source": [
    "**What is your major observations and insights here?**\n",
    "<br>\n",
    "<br>"
   ]
  },
  {
   "cell_type": "markdown",
   "metadata": {
    "colab_type": "text",
    "id": "3_rM_sYn0nPa"
   },
   "source": [
    "### **Pruning association rules**"
   ]
  },
  {
   "cell_type": "code",
   "execution_count": 38,
   "metadata": {
    "colab": {},
    "colab_type": "code",
    "id": "jejN-n9Blql6"
   },
   "outputs": [
    {
     "name": "stdout",
     "output_type": "stream",
     "text": [
      "\n",
      "Association Rules (metric=confidence, min_threshold=0.01):\n",
      "                    antecedents       consequents  antecedent support  \\\n",
      "0  (agro_industry_and_commerce)   (health_beauty)            0.001871   \n",
      "1  (agro_industry_and_commerce)  (sports_leisure)            0.001871   \n",
      "2            (air_conditioning)   (health_beauty)            0.002601   \n",
      "3            (air_conditioning)  (sports_leisure)            0.002601   \n",
      "4                         (art)   (health_beauty)            0.002077   \n",
      "\n",
      "   consequent support   support  confidence  lift  representativity  leverage  \\\n",
      "0                 1.0  0.001871         1.0   1.0               1.0       0.0   \n",
      "1                 1.0  0.001871         1.0   1.0               1.0       0.0   \n",
      "2                 1.0  0.002601         1.0   1.0               1.0       0.0   \n",
      "3                 1.0  0.002601         1.0   1.0               1.0       0.0   \n",
      "4                 1.0  0.002077         1.0   1.0               1.0       0.0   \n",
      "\n",
      "   conviction  zhangs_metric   jaccard  certainty  kulczynski  \n",
      "0         inf            0.0  0.001871        0.0    0.500936  \n",
      "1         inf            0.0  0.001871        0.0    0.500936  \n",
      "2         inf            0.0  0.002601        0.0    0.501301  \n",
      "3         inf            0.0  0.002601        0.0    0.501301  \n",
      "4         inf            0.0  0.002077        0.0    0.501038  \n"
     ]
    },
    {
     "name": "stderr",
     "output_type": "stream",
     "text": [
      "C:\\Users\\siddh\\AppData\\Roaming\\Python\\Python39\\site-packages\\mlxtend\\frequent_patterns\\association_rules.py:186: RuntimeWarning: invalid value encountered in divide\n",
      "  cert_metric = np.where(certainty_denom == 0, 0, certainty_num / certainty_denom)\n",
      "C:\\Users\\siddh\\AppData\\Roaming\\Python\\Python39\\site-packages\\mlxtend\\frequent_patterns\\association_rules.py:186: RuntimeWarning: invalid value encountered in divide\n",
      "  cert_metric = np.where(certainty_denom == 0, 0, certainty_num / certainty_denom)\n"
     ]
    }
   ],
   "source": [
    "rules_confidence = association_rules(frequent_itemsets_0001, metric=\"confidence\", min_threshold=0.01)# Recover association rules using confidence threshold of 0.01.\n",
    "rules_confidence = association_rules(frequent_itemsets_0001, metric=\"confidence\", min_threshold=0.01)\n",
    "\n",
    "# Print rules.\n",
    "print(\"\\nAssociation Rules (metric=confidence, min_threshold=0.01):\")\n",
    "print(rules_confidence.head())"
   ]
  },
  {
   "cell_type": "code",
   "execution_count": 39,
   "metadata": {
    "colab": {},
    "colab_type": "code",
    "id": "_JhzujmIlv7C"
   },
   "outputs": [
    {
     "name": "stdout",
     "output_type": "stream",
     "text": [
      "\n",
      "Rules with Consequent Support > 0.095:\n",
      "                    antecedents       consequents  antecedent support  \\\n",
      "0  (agro_industry_and_commerce)   (health_beauty)            0.001871   \n",
      "1  (agro_industry_and_commerce)  (sports_leisure)            0.001871   \n",
      "2            (air_conditioning)   (health_beauty)            0.002601   \n",
      "3            (air_conditioning)  (sports_leisure)            0.002601   \n",
      "4                         (art)   (health_beauty)            0.002077   \n",
      "\n",
      "   consequent support   support  confidence  lift  representativity  leverage  \\\n",
      "0                 1.0  0.001871         1.0   1.0               1.0       0.0   \n",
      "1                 1.0  0.001871         1.0   1.0               1.0       0.0   \n",
      "2                 1.0  0.002601         1.0   1.0               1.0       0.0   \n",
      "3                 1.0  0.002601         1.0   1.0               1.0       0.0   \n",
      "4                 1.0  0.002077         1.0   1.0               1.0       0.0   \n",
      "\n",
      "   conviction  zhangs_metric   jaccard  certainty  kulczynski  \n",
      "0         inf            0.0  0.001871        0.0    0.500936  \n",
      "1         inf            0.0  0.001871        0.0    0.500936  \n",
      "2         inf            0.0  0.002601        0.0    0.501301  \n",
      "3         inf            0.0  0.002601        0.0    0.501301  \n",
      "4         inf            0.0  0.002077        0.0    0.501038  \n"
     ]
    }
   ],
   "source": [
    "# Select rules with a consequent support above 0.095.\n",
    "rules_consequent_support = rules_confidence[rules_confidence['consequent support'] > 0.095]\n",
    "\n",
    "# Print rules.\n",
    "print(\"\\nRules with Consequent Support > 0.095:\")\n",
    "print(rules_consequent_support.head())"
   ]
  },
  {
   "cell_type": "code",
   "execution_count": 40,
   "metadata": {
    "colab": {},
    "colab_type": "code",
    "id": "6Cjpf3B8lwVG"
   },
   "outputs": [
    {
     "name": "stdout",
     "output_type": "stream",
     "text": [
      "\n",
      "Rules with Leverage > 0.0:\n",
      "Empty DataFrame\n",
      "Columns: [antecedents, consequents, antecedent support, consequent support, support, confidence, lift, representativity, leverage, conviction, zhangs_metric, jaccard, certainty, kulczynski]\n",
      "Index: []\n"
     ]
    }
   ],
   "source": [
    "# Select rules with leverage higher than 0.0.\n",
    "rules_leverage = rules_confidence[rules_confidence['leverage'] > 0.0]\n",
    "# Print rules.\n",
    "print(\"\\nRules with Leverage > 0.0:\")\n",
    "print(rules_leverage.head())"
   ]
  },
  {
   "cell_type": "markdown",
   "metadata": {
    "colab_type": "text",
    "id": "JFSSJq5u5qmQ"
   },
   "source": [
    "## ** Give any three insights from your above analysis:**\n",
    "<br>1. none <br>\n",
    "<br>2. none<br>\n",
    "3. none\n",
    "\n",
    "\n"
   ]
  },
  {
   "cell_type": "markdown",
   "metadata": {
    "colab_type": "text",
    "id": "mbqWXtzR0sif"
   },
   "source": [
    "### **Visualizing patterns in metrics**"
   ]
  },
  {
   "cell_type": "code",
   "execution_count": null,
   "metadata": {},
   "outputs": [],
   "source": []
  }
 ],
 "metadata": {
  "colab": {
   "name": "Market-Basket-Analysis-in-Python.ipynb",
   "provenance": []
  },
  "kernelspec": {
   "display_name": "Python 3",
   "language": "python",
   "name": "python3"
  },
  "language_info": {
   "codemirror_mode": {
    "name": "ipython",
    "version": 3
   },
   "file_extension": ".py",
   "mimetype": "text/x-python",
   "name": "python",
   "nbconvert_exporter": "python",
   "pygments_lexer": "ipython3",
   "version": "3.9.4"
  }
 },
 "nbformat": 4,
 "nbformat_minor": 4
}
