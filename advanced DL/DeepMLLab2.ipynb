{
  "nbformat": 4,
  "nbformat_minor": 0,
  "metadata": {
    "colab": {
      "provenance": []
    },
    "kernelspec": {
      "name": "python3",
      "display_name": "Python 3"
    },
    "language_info": {
      "name": "python"
    }
  },
  "cells": [
    {
      "cell_type": "code",
      "execution_count": 1,
      "metadata": {
        "colab": {
          "base_uri": "https://localhost:8080/"
        },
        "id": "21GgKEgx-eRB",
        "outputId": "efd5bd3c-19f3-46d8-f892-1860f5308dc9"
      },
      "outputs": [
        {
          "output_type": "stream",
          "name": "stdout",
          "text": [
            "Epoch 0, Loss: 0.4975\n",
            "Epoch 1000, Loss: 0.0726\n",
            "Epoch 2000, Loss: 0.0428\n",
            "Epoch 3000, Loss: 0.0328\n",
            "Epoch 4000, Loss: 0.0275\n",
            "Epoch 5000, Loss: 0.0241\n",
            "Epoch 6000, Loss: 0.0217\n",
            "Epoch 7000, Loss: 0.0198\n",
            "Epoch 8000, Loss: 0.0184\n",
            "Epoch 9000, Loss: 0.0172\n",
            "\n",
            "Final trained outputs:\n",
            "[[0.01545698]\n",
            " [0.98232943]\n",
            " [0.98408684]\n",
            " [0.01599462]]\n"
          ]
        }
      ],
      "source": [
        "import numpy as np\n",
        "\n",
        "# Define the sigmoid activation function and its derivative\n",
        "def sigmoid(x):\n",
        "    return 1 / (1 + np.exp(-x))\n",
        "\n",
        "def sigmoid_derivative(x):\n",
        "    return x * (1 - x)\n",
        "\n",
        "# XOR input data (4 training samples)\n",
        "X = np.array([[0, 0],\n",
        "              [0, 1],\n",
        "              [1, 0],\n",
        "              [1, 1]])\n",
        "\n",
        "# XOR output labels\n",
        "y = np.array([[0], [1], [1], [0]])\n",
        "\n",
        "# Set seed for reproducibility\n",
        "np.random.seed(42)\n",
        "\n",
        "# Initialize weights and biases randomly\n",
        "input_layer_neurons = 2\n",
        "hidden_layer_neurons = 3\n",
        "output_layer_neurons = 1\n",
        "\n",
        "# Random weights for input to hidden layer\n",
        "weights_input_hidden = np.random.uniform(-1, 1, (input_layer_neurons, hidden_layer_neurons))\n",
        "bias_hidden = np.random.uniform(-1, 1, (1, hidden_layer_neurons))\n",
        "\n",
        "# Random weights for hidden to output layer\n",
        "weights_hidden_output = np.random.uniform(-1, 1, (hidden_layer_neurons, output_layer_neurons))\n",
        "bias_output = np.random.uniform(-1, 1, (1, output_layer_neurons))\n",
        "\n",
        "# Training parameters\n",
        "learning_rate = 0.5\n",
        "epochs = 10000\n",
        "\n",
        "# Training the network\n",
        "for epoch in range(epochs):\n",
        "    # Forward pass\n",
        "    hidden_layer_activation = np.dot(X, weights_input_hidden) + bias_hidden\n",
        "    hidden_layer_output = sigmoid(hidden_layer_activation)\n",
        "\n",
        "    output_layer_activation = np.dot(hidden_layer_output, weights_hidden_output) + bias_output\n",
        "    predicted_output = sigmoid(output_layer_activation)\n",
        "\n",
        "    # Calculate the error\n",
        "    error = y - predicted_output\n",
        "\n",
        "    # Backpropagation\n",
        "    output_error_term = error * sigmoid_derivative(predicted_output)\n",
        "\n",
        "    hidden_layer_error = output_error_term.dot(weights_hidden_output.T)\n",
        "    hidden_error_term = hidden_layer_error * sigmoid_derivative(hidden_layer_output)\n",
        "\n",
        "    # Update weights and biases\n",
        "    weights_hidden_output += hidden_layer_output.T.dot(output_error_term) * learning_rate\n",
        "    bias_output += np.sum(output_error_term, axis=0, keepdims=True) * learning_rate\n",
        "\n",
        "    weights_input_hidden += X.T.dot(hidden_error_term) * learning_rate\n",
        "    bias_hidden += np.sum(hidden_error_term, axis=0, keepdims=True) * learning_rate\n",
        "\n",
        "    # Print error at every 1000 epochs\n",
        "    if epoch % 1000 == 0:\n",
        "        loss = np.mean(np.abs(error))\n",
        "        print(f\"Epoch {epoch}, Loss: {loss:.4f}\")\n",
        "\n",
        "# Final output after training\n",
        "print(\"\\nFinal trained outputs:\")\n",
        "print(predicted_output)\n"
      ]
    },
    {
      "cell_type": "code",
      "source": [],
      "metadata": {
        "id": "XHlJcBKF-ghp"
      },
      "execution_count": null,
      "outputs": []
    }
  ]
}