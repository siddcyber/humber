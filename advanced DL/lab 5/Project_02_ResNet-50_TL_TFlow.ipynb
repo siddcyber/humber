{
 "cells": [
  {
   "cell_type": "markdown",
   "metadata": {
    "id": "oa7E1eb6UmGw"
   },
   "source": [
    "## Perform standard imports"
   ]
  },
  {
   "cell_type": "code",
   "execution_count": null,
   "metadata": {
    "colab": {
     "base_uri": "https://localhost:8080/"
    },
    "executionInfo": {
     "elapsed": 11073,
     "status": "ok",
     "timestamp": 1718500509291,
     "user": {
      "displayName": "zeeshan ahmad",
      "userId": "09790783261567949831"
     },
     "user_tz": 240
    },
    "id": "SHAT-gZOVECg",
    "outputId": "5c8222ee-3028-4032-eb07-decb282718df"
   },
   "outputs": [
    {
     "name": "stdout",
     "output_type": "stream",
     "text": [
      "Requirement already satisfied: split-folders in /usr/local/lib/python3.10/dist-packages (0.5.1)\n"
     ]
    }
   ],
   "source": [
    "! pip install split-folders"
   ]
  },
  {
   "cell_type": "code",
   "execution_count": null,
   "metadata": {
    "id": "KoxB1QxeUmG0"
   },
   "outputs": [],
   "source": [
    "import tensorflow as tf\n",
    "from keras.models import Sequential\n",
    "from keras.layers import Activation, Dropout, Flatten, Dense, Conv2D, MaxPooling2D, BatchNormalization, GlobalAveragePooling2D\n",
    "from keras.preprocessing.image import ImageDataGenerator\n",
    "import splitfolders\n",
    "import numpy as np\n",
    "import copy\n",
    "import pandas as pd\n",
    "import matplotlib.pyplot as plt\n",
    "from matplotlib import style\n",
    "style.use('dark_background')\n"
   ]
  },
  {
   "cell_type": "code",
   "execution_count": null,
   "metadata": {
    "colab": {
     "base_uri": "https://localhost:8080/"
    },
    "executionInfo": {
     "elapsed": 283,
     "status": "ok",
     "timestamp": 1718500517908,
     "user": {
      "displayName": "zeeshan ahmad",
      "userId": "09790783261567949831"
     },
     "user_tz": 240
    },
    "id": "7c5E8X6W9XA5",
    "outputId": "be47da71-f5d9-44f1-8a11-584adf768aec"
   },
   "outputs": [
    {
     "name": "stdout",
     "output_type": "stream",
     "text": [
      "GPU name:  [PhysicalDevice(name='/physical_device:GPU:0', device_type='GPU')]\n"
     ]
    }
   ],
   "source": [
    "print('GPU name: ', tf.config.experimental.list_physical_devices('GPU'))"
   ]
  },
  {
   "cell_type": "code",
   "execution_count": null,
   "metadata": {
    "colab": {
     "base_uri": "https://localhost:8080/"
    },
    "executionInfo": {
     "elapsed": 241,
     "status": "ok",
     "timestamp": 1718500518148,
     "user": {
      "displayName": "zeeshan ahmad",
      "userId": "09790783261567949831"
     },
     "user_tz": 240
    },
    "id": "G_ZJ-fgYUmG2",
    "outputId": "15aef16e-46a0-4830-84d3-e2d30fc89c76"
   },
   "outputs": [
    {
     "name": "stdout",
     "output_type": "stream",
     "text": [
      "1 Physical GPUs, 1 Logical GPUs\n"
     ]
    }
   ],
   "source": [
    "gpus = tf.config.experimental.list_physical_devices('GPU')\n",
    "if gpus:\n",
    "    try:\n",
    "        for gpu in gpus:\n",
    "            tf.config.experimental.set_memory_growth(gpu, True)\n",
    "            logical_gpus = tf.config.experimental.list_logical_devices('GPU')\n",
    "            print(len(gpus), \"Physical GPUs,\", len(logical_gpus), \"Logical GPUs\")\n",
    "    except RuntimeError as e:\n",
    "        print(e)"
   ]
  },
  {
   "cell_type": "code",
   "execution_count": null,
   "metadata": {
    "colab": {
     "base_uri": "https://localhost:8080/"
    },
    "executionInfo": {
     "elapsed": 954,
     "status": "ok",
     "timestamp": 1718500519099,
     "user": {
      "displayName": "zeeshan ahmad",
      "userId": "09790783261567949831"
     },
     "user_tz": 240
    },
    "id": "P3a_lyAiVdwJ",
    "outputId": "6f0a9657-f19e-4ed1-df0a-ad59214ea466"
   },
   "outputs": [
    {
     "name": "stdout",
     "output_type": "stream",
     "text": [
      "Drive already mounted at /content/drive; to attempt to forcibly remount, call drive.mount(\"/content/drive\", force_remount=True).\n"
     ]
    }
   ],
   "source": [
    "from google.colab import drive\n",
    "drive.mount('/content/drive')"
   ]
  },
  {
   "cell_type": "code",
   "execution_count": null,
   "metadata": {
    "colab": {
     "base_uri": "https://localhost:8080/"
    },
    "executionInfo": {
     "elapsed": 5,
     "status": "ok",
     "timestamp": 1718500519100,
     "user": {
      "displayName": "zeeshan ahmad",
      "userId": "09790783261567949831"
     },
     "user_tz": 240
    },
    "id": "kFGX55_UVqKP",
    "outputId": "894bc22f-c4c2-4119-9446-7c0488cc5173"
   },
   "outputs": [
    {
     "name": "stdout",
     "output_type": "stream",
     "text": [
      "/content/drive/MyDrive/CNN_TF\n"
     ]
    }
   ],
   "source": [
    "%cd/content/drive/MyDrive/Course Material/Supervised Machine Learning/CNN_TF"
   ]
  },
  {
   "cell_type": "markdown",
   "metadata": {
    "id": "QsLdNQwJUmG4"
   },
   "source": [
    "## Prepare train and test sets, loaders"
   ]
  },
  {
   "cell_type": "code",
   "execution_count": null,
   "metadata": {
    "colab": {
     "base_uri": "https://localhost:8080/"
    },
    "executionInfo": {
     "elapsed": 21335,
     "status": "ok",
     "timestamp": 1718500540432,
     "user": {
      "displayName": "zeeshan ahmad",
      "userId": "09790783261567949831"
     },
     "user_tz": 240
    },
    "id": "COC1aJtnUmG5",
    "outputId": "c5848a40-8563-4456-c1a6-790c3ac7d6a6"
   },
   "outputs": [
    {
     "name": "stderr",
     "output_type": "stream",
     "text": [
      "Copying files: 1000 files [00:21, 46.93 files/s]\n"
     ]
    }
   ],
   "source": [
    "splitfolders.ratio(\"dataset\", output=\"circle_square\",\n",
    "    seed=1337, ratio=(.8, .2), group_prefix=None, move=False) # default values"
   ]
  },
  {
   "cell_type": "code",
   "execution_count": null,
   "metadata": {
    "id": "RPrnvZiFUmG5"
   },
   "outputs": [],
   "source": [
    "train_datagen = ImageDataGenerator(rotation_range=90,\n",
    "                                     brightness_range=[0.1, 0.7],\n",
    "                                     horizontal_flip=True,\n",
    "                                     vertical_flip=True,\n",
    "                                     validation_split=0.2,\n",
    "                                     rescale = 1./255)\n",
    "\n",
    "\n",
    "test_datagen = ImageDataGenerator(rescale = 1./255)"
   ]
  },
  {
   "cell_type": "code",
   "execution_count": null,
   "metadata": {
    "colab": {
     "base_uri": "https://localhost:8080/"
    },
    "executionInfo": {
     "elapsed": 241,
     "status": "ok",
     "timestamp": 1718500540654,
     "user": {
      "displayName": "zeeshan ahmad",
      "userId": "09790783261567949831"
     },
     "user_tz": 240
    },
    "id": "_oY0Va9D9XBA",
    "outputId": "9182d489-637b-4ddd-d6c9-e322481a68d7"
   },
   "outputs": [
    {
     "name": "stdout",
     "output_type": "stream",
     "text": [
      "Found 800 images belonging to 2 classes.\n",
      "Found 200 images belonging to 2 classes.\n"
     ]
    }
   ],
   "source": [
    "batch_size = 32\n",
    "\n",
    "training_set = train_datagen.flow_from_directory('circle_square/train/',\n",
    "                                                 target_size = (200,200),\n",
    "                                                 class_mode='binary',\n",
    "                                                 shuffle = True,\n",
    "                                                 batch_size = batch_size)\n",
    "test_set = train_datagen.flow_from_directory('circle_square/val/',\n",
    "                                                 target_size = (200,200),\n",
    "                                                 class_mode='binary',\n",
    "                                                 shuffle = False,\n",
    "                                                 batch_size = 1)\n"
   ]
  },
  {
   "cell_type": "markdown",
   "metadata": {
    "id": "FxgND91rUmG7"
   },
   "source": [
    "##  Import ResNet-50"
   ]
  },
  {
   "cell_type": "code",
   "execution_count": null,
   "metadata": {
    "id": "OHmVaG8elgfR"
   },
   "outputs": [],
   "source": [
    "base_model = tf.keras.applications.resnet50.ResNet50(weights='imagenet', include_top = False)\n",
    "# setting include_top to False means the classification layers are not added and it is only a feature extracter and we will add\n",
    "# the clasification layers by ourself.\n",
    "output = base_model.output"
   ]
  },
  {
   "cell_type": "code",
   "execution_count": null,
   "metadata": {
    "colab": {
     "base_uri": "https://localhost:8080/"
    },
    "executionInfo": {
     "elapsed": 3316,
     "status": "ok",
     "timestamp": 1718500546390,
     "user": {
      "displayName": "zeeshan ahmad",
      "userId": "09790783261567949831"
     },
     "user_tz": 240
    },
    "id": "JLTzi1349XBC",
    "outputId": "b860a940-e4eb-4e04-b189-5a22cefe8548"
   },
   "outputs": [
    {
     "name": "stdout",
     "output_type": "stream",
     "text": [
      "Model: \"resnet50\"\n",
      "__________________________________________________________________________________________________\n",
      " Layer (type)                Output Shape                 Param #   Connected to                  \n",
      "==================================================================================================\n",
      " input_1 (InputLayer)        [(None, None, None, 3)]      0         []                            \n",
      "                                                                                                  \n",
      " conv1_pad (ZeroPadding2D)   (None, None, None, 3)        0         ['input_1[0][0]']             \n",
      "                                                                                                  \n",
      " conv1_conv (Conv2D)         (None, None, None, 64)       9472      ['conv1_pad[0][0]']           \n",
      "                                                                                                  \n",
      " conv1_bn (BatchNormalizati  (None, None, None, 64)       256       ['conv1_conv[0][0]']          \n",
      " on)                                                                                              \n",
      "                                                                                                  \n",
      " conv1_relu (Activation)     (None, None, None, 64)       0         ['conv1_bn[0][0]']            \n",
      "                                                                                                  \n",
      " pool1_pad (ZeroPadding2D)   (None, None, None, 64)       0         ['conv1_relu[0][0]']          \n",
      "                                                                                                  \n",
      " pool1_pool (MaxPooling2D)   (None, None, None, 64)       0         ['pool1_pad[0][0]']           \n",
      "                                                                                                  \n",
      " conv2_block1_1_conv (Conv2  (None, None, None, 64)       4160      ['pool1_pool[0][0]']          \n",
      " D)                                                                                               \n",
      "                                                                                                  \n",
      " conv2_block1_1_bn (BatchNo  (None, None, None, 64)       256       ['conv2_block1_1_conv[0][0]'] \n",
      " rmalization)                                                                                     \n",
      "                                                                                                  \n",
      " conv2_block1_1_relu (Activ  (None, None, None, 64)       0         ['conv2_block1_1_bn[0][0]']   \n",
      " ation)                                                                                           \n",
      "                                                                                                  \n",
      " conv2_block1_2_conv (Conv2  (None, None, None, 64)       36928     ['conv2_block1_1_relu[0][0]'] \n",
      " D)                                                                                               \n",
      "                                                                                                  \n",
      " conv2_block1_2_bn (BatchNo  (None, None, None, 64)       256       ['conv2_block1_2_conv[0][0]'] \n",
      " rmalization)                                                                                     \n",
      "                                                                                                  \n",
      " conv2_block1_2_relu (Activ  (None, None, None, 64)       0         ['conv2_block1_2_bn[0][0]']   \n",
      " ation)                                                                                           \n",
      "                                                                                                  \n",
      " conv2_block1_0_conv (Conv2  (None, None, None, 256)      16640     ['pool1_pool[0][0]']          \n",
      " D)                                                                                               \n",
      "                                                                                                  \n",
      " conv2_block1_3_conv (Conv2  (None, None, None, 256)      16640     ['conv2_block1_2_relu[0][0]'] \n",
      " D)                                                                                               \n",
      "                                                                                                  \n",
      " conv2_block1_0_bn (BatchNo  (None, None, None, 256)      1024      ['conv2_block1_0_conv[0][0]'] \n",
      " rmalization)                                                                                     \n",
      "                                                                                                  \n",
      " conv2_block1_3_bn (BatchNo  (None, None, None, 256)      1024      ['conv2_block1_3_conv[0][0]'] \n",
      " rmalization)                                                                                     \n",
      "                                                                                                  \n",
      " conv2_block1_add (Add)      (None, None, None, 256)      0         ['conv2_block1_0_bn[0][0]',   \n",
      "                                                                     'conv2_block1_3_bn[0][0]']   \n",
      "                                                                                                  \n",
      " conv2_block1_out (Activati  (None, None, None, 256)      0         ['conv2_block1_add[0][0]']    \n",
      " on)                                                                                              \n",
      "                                                                                                  \n",
      " conv2_block2_1_conv (Conv2  (None, None, None, 64)       16448     ['conv2_block1_out[0][0]']    \n",
      " D)                                                                                               \n",
      "                                                                                                  \n",
      " conv2_block2_1_bn (BatchNo  (None, None, None, 64)       256       ['conv2_block2_1_conv[0][0]'] \n",
      " rmalization)                                                                                     \n",
      "                                                                                                  \n",
      " conv2_block2_1_relu (Activ  (None, None, None, 64)       0         ['conv2_block2_1_bn[0][0]']   \n",
      " ation)                                                                                           \n",
      "                                                                                                  \n",
      " conv2_block2_2_conv (Conv2  (None, None, None, 64)       36928     ['conv2_block2_1_relu[0][0]'] \n",
      " D)                                                                                               \n",
      "                                                                                                  \n",
      " conv2_block2_2_bn (BatchNo  (None, None, None, 64)       256       ['conv2_block2_2_conv[0][0]'] \n",
      " rmalization)                                                                                     \n",
      "                                                                                                  \n",
      " conv2_block2_2_relu (Activ  (None, None, None, 64)       0         ['conv2_block2_2_bn[0][0]']   \n",
      " ation)                                                                                           \n",
      "                                                                                                  \n",
      " conv2_block2_3_conv (Conv2  (None, None, None, 256)      16640     ['conv2_block2_2_relu[0][0]'] \n",
      " D)                                                                                               \n",
      "                                                                                                  \n",
      " conv2_block2_3_bn (BatchNo  (None, None, None, 256)      1024      ['conv2_block2_3_conv[0][0]'] \n",
      " rmalization)                                                                                     \n",
      "                                                                                                  \n",
      " conv2_block2_add (Add)      (None, None, None, 256)      0         ['conv2_block1_out[0][0]',    \n",
      "                                                                     'conv2_block2_3_bn[0][0]']   \n",
      "                                                                                                  \n",
      " conv2_block2_out (Activati  (None, None, None, 256)      0         ['conv2_block2_add[0][0]']    \n",
      " on)                                                                                              \n",
      "                                                                                                  \n",
      " conv2_block3_1_conv (Conv2  (None, None, None, 64)       16448     ['conv2_block2_out[0][0]']    \n",
      " D)                                                                                               \n",
      "                                                                                                  \n",
      " conv2_block3_1_bn (BatchNo  (None, None, None, 64)       256       ['conv2_block3_1_conv[0][0]'] \n",
      " rmalization)                                                                                     \n",
      "                                                                                                  \n",
      " conv2_block3_1_relu (Activ  (None, None, None, 64)       0         ['conv2_block3_1_bn[0][0]']   \n",
      " ation)                                                                                           \n",
      "                                                                                                  \n",
      " conv2_block3_2_conv (Conv2  (None, None, None, 64)       36928     ['conv2_block3_1_relu[0][0]'] \n",
      " D)                                                                                               \n",
      "                                                                                                  \n",
      " conv2_block3_2_bn (BatchNo  (None, None, None, 64)       256       ['conv2_block3_2_conv[0][0]'] \n",
      " rmalization)                                                                                     \n",
      "                                                                                                  \n",
      " conv2_block3_2_relu (Activ  (None, None, None, 64)       0         ['conv2_block3_2_bn[0][0]']   \n",
      " ation)                                                                                           \n",
      "                                                                                                  \n",
      " conv2_block3_3_conv (Conv2  (None, None, None, 256)      16640     ['conv2_block3_2_relu[0][0]'] \n",
      " D)                                                                                               \n",
      "                                                                                                  \n",
      " conv2_block3_3_bn (BatchNo  (None, None, None, 256)      1024      ['conv2_block3_3_conv[0][0]'] \n",
      " rmalization)                                                                                     \n",
      "                                                                                                  \n",
      " conv2_block3_add (Add)      (None, None, None, 256)      0         ['conv2_block2_out[0][0]',    \n",
      "                                                                     'conv2_block3_3_bn[0][0]']   \n",
      "                                                                                                  \n",
      " conv2_block3_out (Activati  (None, None, None, 256)      0         ['conv2_block3_add[0][0]']    \n",
      " on)                                                                                              \n",
      "                                                                                                  \n",
      " conv3_block1_1_conv (Conv2  (None, None, None, 128)      32896     ['conv2_block3_out[0][0]']    \n",
      " D)                                                                                               \n",
      "                                                                                                  \n",
      " conv3_block1_1_bn (BatchNo  (None, None, None, 128)      512       ['conv3_block1_1_conv[0][0]'] \n",
      " rmalization)                                                                                     \n",
      "                                                                                                  \n",
      " conv3_block1_1_relu (Activ  (None, None, None, 128)      0         ['conv3_block1_1_bn[0][0]']   \n",
      " ation)                                                                                           \n",
      "                                                                                                  \n",
      " conv3_block1_2_conv (Conv2  (None, None, None, 128)      147584    ['conv3_block1_1_relu[0][0]'] \n",
      " D)                                                                                               \n",
      "                                                                                                  \n",
      " conv3_block1_2_bn (BatchNo  (None, None, None, 128)      512       ['conv3_block1_2_conv[0][0]'] \n",
      " rmalization)                                                                                     \n",
      "                                                                                                  \n",
      " conv3_block1_2_relu (Activ  (None, None, None, 128)      0         ['conv3_block1_2_bn[0][0]']   \n",
      " ation)                                                                                           \n",
      "                                                                                                  \n",
      " conv3_block1_0_conv (Conv2  (None, None, None, 512)      131584    ['conv2_block3_out[0][0]']    \n",
      " D)                                                                                               \n",
      "                                                                                                  \n",
      " conv3_block1_3_conv (Conv2  (None, None, None, 512)      66048     ['conv3_block1_2_relu[0][0]'] \n",
      " D)                                                                                               \n",
      "                                                                                                  \n",
      " conv3_block1_0_bn (BatchNo  (None, None, None, 512)      2048      ['conv3_block1_0_conv[0][0]'] \n",
      " rmalization)                                                                                     \n",
      "                                                                                                  \n",
      " conv3_block1_3_bn (BatchNo  (None, None, None, 512)      2048      ['conv3_block1_3_conv[0][0]'] \n",
      " rmalization)                                                                                     \n",
      "                                                                                                  \n",
      " conv3_block1_add (Add)      (None, None, None, 512)      0         ['conv3_block1_0_bn[0][0]',   \n",
      "                                                                     'conv3_block1_3_bn[0][0]']   \n",
      "                                                                                                  \n",
      " conv3_block1_out (Activati  (None, None, None, 512)      0         ['conv3_block1_add[0][0]']    \n",
      " on)                                                                                              \n",
      "                                                                                                  \n",
      " conv3_block2_1_conv (Conv2  (None, None, None, 128)      65664     ['conv3_block1_out[0][0]']    \n",
      " D)                                                                                               \n",
      "                                                                                                  \n",
      " conv3_block2_1_bn (BatchNo  (None, None, None, 128)      512       ['conv3_block2_1_conv[0][0]'] \n",
      " rmalization)                                                                                     \n",
      "                                                                                                  \n",
      " conv3_block2_1_relu (Activ  (None, None, None, 128)      0         ['conv3_block2_1_bn[0][0]']   \n",
      " ation)                                                                                           \n",
      "                                                                                                  \n",
      " conv3_block2_2_conv (Conv2  (None, None, None, 128)      147584    ['conv3_block2_1_relu[0][0]'] \n",
      " D)                                                                                               \n",
      "                                                                                                  \n",
      " conv3_block2_2_bn (BatchNo  (None, None, None, 128)      512       ['conv3_block2_2_conv[0][0]'] \n",
      " rmalization)                                                                                     \n",
      "                                                                                                  \n",
      " conv3_block2_2_relu (Activ  (None, None, None, 128)      0         ['conv3_block2_2_bn[0][0]']   \n",
      " ation)                                                                                           \n",
      "                                                                                                  \n",
      " conv3_block2_3_conv (Conv2  (None, None, None, 512)      66048     ['conv3_block2_2_relu[0][0]'] \n",
      " D)                                                                                               \n",
      "                                                                                                  \n",
      " conv3_block2_3_bn (BatchNo  (None, None, None, 512)      2048      ['conv3_block2_3_conv[0][0]'] \n",
      " rmalization)                                                                                     \n",
      "                                                                                                  \n",
      " conv3_block2_add (Add)      (None, None, None, 512)      0         ['conv3_block1_out[0][0]',    \n",
      "                                                                     'conv3_block2_3_bn[0][0]']   \n",
      "                                                                                                  \n",
      " conv3_block2_out (Activati  (None, None, None, 512)      0         ['conv3_block2_add[0][0]']    \n",
      " on)                                                                                              \n",
      "                                                                                                  \n",
      " conv3_block3_1_conv (Conv2  (None, None, None, 128)      65664     ['conv3_block2_out[0][0]']    \n",
      " D)                                                                                               \n",
      "                                                                                                  \n",
      " conv3_block3_1_bn (BatchNo  (None, None, None, 128)      512       ['conv3_block3_1_conv[0][0]'] \n",
      " rmalization)                                                                                     \n",
      "                                                                                                  \n",
      " conv3_block3_1_relu (Activ  (None, None, None, 128)      0         ['conv3_block3_1_bn[0][0]']   \n",
      " ation)                                                                                           \n",
      "                                                                                                  \n",
      " conv3_block3_2_conv (Conv2  (None, None, None, 128)      147584    ['conv3_block3_1_relu[0][0]'] \n",
      " D)                                                                                               \n",
      "                                                                                                  \n",
      " conv3_block3_2_bn (BatchNo  (None, None, None, 128)      512       ['conv3_block3_2_conv[0][0]'] \n",
      " rmalization)                                                                                     \n",
      "                                                                                                  \n",
      " conv3_block3_2_relu (Activ  (None, None, None, 128)      0         ['conv3_block3_2_bn[0][0]']   \n",
      " ation)                                                                                           \n",
      "                                                                                                  \n",
      " conv3_block3_3_conv (Conv2  (None, None, None, 512)      66048     ['conv3_block3_2_relu[0][0]'] \n",
      " D)                                                                                               \n",
      "                                                                                                  \n",
      " conv3_block3_3_bn (BatchNo  (None, None, None, 512)      2048      ['conv3_block3_3_conv[0][0]'] \n",
      " rmalization)                                                                                     \n",
      "                                                                                                  \n",
      " conv3_block3_add (Add)      (None, None, None, 512)      0         ['conv3_block2_out[0][0]',    \n",
      "                                                                     'conv3_block3_3_bn[0][0]']   \n",
      "                                                                                                  \n",
      " conv3_block3_out (Activati  (None, None, None, 512)      0         ['conv3_block3_add[0][0]']    \n",
      " on)                                                                                              \n",
      "                                                                                                  \n",
      " conv3_block4_1_conv (Conv2  (None, None, None, 128)      65664     ['conv3_block3_out[0][0]']    \n",
      " D)                                                                                               \n",
      "                                                                                                  \n",
      " conv3_block4_1_bn (BatchNo  (None, None, None, 128)      512       ['conv3_block4_1_conv[0][0]'] \n",
      " rmalization)                                                                                     \n",
      "                                                                                                  \n",
      " conv3_block4_1_relu (Activ  (None, None, None, 128)      0         ['conv3_block4_1_bn[0][0]']   \n",
      " ation)                                                                                           \n",
      "                                                                                                  \n",
      " conv3_block4_2_conv (Conv2  (None, None, None, 128)      147584    ['conv3_block4_1_relu[0][0]'] \n",
      " D)                                                                                               \n",
      "                                                                                                  \n",
      " conv3_block4_2_bn (BatchNo  (None, None, None, 128)      512       ['conv3_block4_2_conv[0][0]'] \n",
      " rmalization)                                                                                     \n",
      "                                                                                                  \n",
      " conv3_block4_2_relu (Activ  (None, None, None, 128)      0         ['conv3_block4_2_bn[0][0]']   \n",
      " ation)                                                                                           \n",
      "                                                                                                  \n",
      " conv3_block4_3_conv (Conv2  (None, None, None, 512)      66048     ['conv3_block4_2_relu[0][0]'] \n",
      " D)                                                                                               \n",
      "                                                                                                  \n",
      " conv3_block4_3_bn (BatchNo  (None, None, None, 512)      2048      ['conv3_block4_3_conv[0][0]'] \n",
      " rmalization)                                                                                     \n",
      "                                                                                                  \n",
      " conv3_block4_add (Add)      (None, None, None, 512)      0         ['conv3_block3_out[0][0]',    \n",
      "                                                                     'conv3_block4_3_bn[0][0]']   \n",
      "                                                                                                  \n",
      " conv3_block4_out (Activati  (None, None, None, 512)      0         ['conv3_block4_add[0][0]']    \n",
      " on)                                                                                              \n",
      "                                                                                                  \n",
      " conv4_block1_1_conv (Conv2  (None, None, None, 256)      131328    ['conv3_block4_out[0][0]']    \n",
      " D)                                                                                               \n",
      "                                                                                                  \n",
      " conv4_block1_1_bn (BatchNo  (None, None, None, 256)      1024      ['conv4_block1_1_conv[0][0]'] \n",
      " rmalization)                                                                                     \n",
      "                                                                                                  \n",
      " conv4_block1_1_relu (Activ  (None, None, None, 256)      0         ['conv4_block1_1_bn[0][0]']   \n",
      " ation)                                                                                           \n",
      "                                                                                                  \n",
      " conv4_block1_2_conv (Conv2  (None, None, None, 256)      590080    ['conv4_block1_1_relu[0][0]'] \n",
      " D)                                                                                               \n",
      "                                                                                                  \n",
      " conv4_block1_2_bn (BatchNo  (None, None, None, 256)      1024      ['conv4_block1_2_conv[0][0]'] \n",
      " rmalization)                                                                                     \n",
      "                                                                                                  \n",
      " conv4_block1_2_relu (Activ  (None, None, None, 256)      0         ['conv4_block1_2_bn[0][0]']   \n",
      " ation)                                                                                           \n",
      "                                                                                                  \n",
      " conv4_block1_0_conv (Conv2  (None, None, None, 1024)     525312    ['conv3_block4_out[0][0]']    \n",
      " D)                                                                                               \n",
      "                                                                                                  \n",
      " conv4_block1_3_conv (Conv2  (None, None, None, 1024)     263168    ['conv4_block1_2_relu[0][0]'] \n",
      " D)                                                                                               \n",
      "                                                                                                  \n",
      " conv4_block1_0_bn (BatchNo  (None, None, None, 1024)     4096      ['conv4_block1_0_conv[0][0]'] \n",
      " rmalization)                                                                                     \n",
      "                                                                                                  \n",
      " conv4_block1_3_bn (BatchNo  (None, None, None, 1024)     4096      ['conv4_block1_3_conv[0][0]'] \n",
      " rmalization)                                                                                     \n",
      "                                                                                                  \n",
      " conv4_block1_add (Add)      (None, None, None, 1024)     0         ['conv4_block1_0_bn[0][0]',   \n",
      "                                                                     'conv4_block1_3_bn[0][0]']   \n",
      "                                                                                                  \n",
      " conv4_block1_out (Activati  (None, None, None, 1024)     0         ['conv4_block1_add[0][0]']    \n",
      " on)                                                                                              \n",
      "                                                                                                  \n",
      " conv4_block2_1_conv (Conv2  (None, None, None, 256)      262400    ['conv4_block1_out[0][0]']    \n",
      " D)                                                                                               \n",
      "                                                                                                  \n",
      " conv4_block2_1_bn (BatchNo  (None, None, None, 256)      1024      ['conv4_block2_1_conv[0][0]'] \n",
      " rmalization)                                                                                     \n",
      "                                                                                                  \n",
      " conv4_block2_1_relu (Activ  (None, None, None, 256)      0         ['conv4_block2_1_bn[0][0]']   \n",
      " ation)                                                                                           \n",
      "                                                                                                  \n",
      " conv4_block2_2_conv (Conv2  (None, None, None, 256)      590080    ['conv4_block2_1_relu[0][0]'] \n",
      " D)                                                                                               \n",
      "                                                                                                  \n",
      " conv4_block2_2_bn (BatchNo  (None, None, None, 256)      1024      ['conv4_block2_2_conv[0][0]'] \n",
      " rmalization)                                                                                     \n",
      "                                                                                                  \n",
      " conv4_block2_2_relu (Activ  (None, None, None, 256)      0         ['conv4_block2_2_bn[0][0]']   \n",
      " ation)                                                                                           \n",
      "                                                                                                  \n",
      " conv4_block2_3_conv (Conv2  (None, None, None, 1024)     263168    ['conv4_block2_2_relu[0][0]'] \n",
      " D)                                                                                               \n",
      "                                                                                                  \n",
      " conv4_block2_3_bn (BatchNo  (None, None, None, 1024)     4096      ['conv4_block2_3_conv[0][0]'] \n",
      " rmalization)                                                                                     \n",
      "                                                                                                  \n",
      " conv4_block2_add (Add)      (None, None, None, 1024)     0         ['conv4_block1_out[0][0]',    \n",
      "                                                                     'conv4_block2_3_bn[0][0]']   \n",
      "                                                                                                  \n",
      " conv4_block2_out (Activati  (None, None, None, 1024)     0         ['conv4_block2_add[0][0]']    \n",
      " on)                                                                                              \n",
      "                                                                                                  \n",
      " conv4_block3_1_conv (Conv2  (None, None, None, 256)      262400    ['conv4_block2_out[0][0]']    \n",
      " D)                                                                                               \n",
      "                                                                                                  \n",
      " conv4_block3_1_bn (BatchNo  (None, None, None, 256)      1024      ['conv4_block3_1_conv[0][0]'] \n",
      " rmalization)                                                                                     \n",
      "                                                                                                  \n",
      " conv4_block3_1_relu (Activ  (None, None, None, 256)      0         ['conv4_block3_1_bn[0][0]']   \n",
      " ation)                                                                                           \n",
      "                                                                                                  \n",
      " conv4_block3_2_conv (Conv2  (None, None, None, 256)      590080    ['conv4_block3_1_relu[0][0]'] \n",
      " D)                                                                                               \n",
      "                                                                                                  \n",
      " conv4_block3_2_bn (BatchNo  (None, None, None, 256)      1024      ['conv4_block3_2_conv[0][0]'] \n",
      " rmalization)                                                                                     \n",
      "                                                                                                  \n",
      " conv4_block3_2_relu (Activ  (None, None, None, 256)      0         ['conv4_block3_2_bn[0][0]']   \n",
      " ation)                                                                                           \n",
      "                                                                                                  \n",
      " conv4_block3_3_conv (Conv2  (None, None, None, 1024)     263168    ['conv4_block3_2_relu[0][0]'] \n",
      " D)                                                                                               \n",
      "                                                                                                  \n",
      " conv4_block3_3_bn (BatchNo  (None, None, None, 1024)     4096      ['conv4_block3_3_conv[0][0]'] \n",
      " rmalization)                                                                                     \n",
      "                                                                                                  \n",
      " conv4_block3_add (Add)      (None, None, None, 1024)     0         ['conv4_block2_out[0][0]',    \n",
      "                                                                     'conv4_block3_3_bn[0][0]']   \n",
      "                                                                                                  \n",
      " conv4_block3_out (Activati  (None, None, None, 1024)     0         ['conv4_block3_add[0][0]']    \n",
      " on)                                                                                              \n",
      "                                                                                                  \n",
      " conv4_block4_1_conv (Conv2  (None, None, None, 256)      262400    ['conv4_block3_out[0][0]']    \n",
      " D)                                                                                               \n",
      "                                                                                                  \n",
      " conv4_block4_1_bn (BatchNo  (None, None, None, 256)      1024      ['conv4_block4_1_conv[0][0]'] \n",
      " rmalization)                                                                                     \n",
      "                                                                                                  \n",
      " conv4_block4_1_relu (Activ  (None, None, None, 256)      0         ['conv4_block4_1_bn[0][0]']   \n",
      " ation)                                                                                           \n",
      "                                                                                                  \n",
      " conv4_block4_2_conv (Conv2  (None, None, None, 256)      590080    ['conv4_block4_1_relu[0][0]'] \n",
      " D)                                                                                               \n",
      "                                                                                                  \n",
      " conv4_block4_2_bn (BatchNo  (None, None, None, 256)      1024      ['conv4_block4_2_conv[0][0]'] \n",
      " rmalization)                                                                                     \n",
      "                                                                                                  \n",
      " conv4_block4_2_relu (Activ  (None, None, None, 256)      0         ['conv4_block4_2_bn[0][0]']   \n",
      " ation)                                                                                           \n",
      "                                                                                                  \n",
      " conv4_block4_3_conv (Conv2  (None, None, None, 1024)     263168    ['conv4_block4_2_relu[0][0]'] \n",
      " D)                                                                                               \n",
      "                                                                                                  \n",
      " conv4_block4_3_bn (BatchNo  (None, None, None, 1024)     4096      ['conv4_block4_3_conv[0][0]'] \n",
      " rmalization)                                                                                     \n",
      "                                                                                                  \n",
      " conv4_block4_add (Add)      (None, None, None, 1024)     0         ['conv4_block3_out[0][0]',    \n",
      "                                                                     'conv4_block4_3_bn[0][0]']   \n",
      "                                                                                                  \n",
      " conv4_block4_out (Activati  (None, None, None, 1024)     0         ['conv4_block4_add[0][0]']    \n",
      " on)                                                                                              \n",
      "                                                                                                  \n",
      " conv4_block5_1_conv (Conv2  (None, None, None, 256)      262400    ['conv4_block4_out[0][0]']    \n",
      " D)                                                                                               \n",
      "                                                                                                  \n",
      " conv4_block5_1_bn (BatchNo  (None, None, None, 256)      1024      ['conv4_block5_1_conv[0][0]'] \n",
      " rmalization)                                                                                     \n",
      "                                                                                                  \n",
      " conv4_block5_1_relu (Activ  (None, None, None, 256)      0         ['conv4_block5_1_bn[0][0]']   \n",
      " ation)                                                                                           \n",
      "                                                                                                  \n",
      " conv4_block5_2_conv (Conv2  (None, None, None, 256)      590080    ['conv4_block5_1_relu[0][0]'] \n",
      " D)                                                                                               \n",
      "                                                                                                  \n",
      " conv4_block5_2_bn (BatchNo  (None, None, None, 256)      1024      ['conv4_block5_2_conv[0][0]'] \n",
      " rmalization)                                                                                     \n",
      "                                                                                                  \n",
      " conv4_block5_2_relu (Activ  (None, None, None, 256)      0         ['conv4_block5_2_bn[0][0]']   \n",
      " ation)                                                                                           \n",
      "                                                                                                  \n",
      " conv4_block5_3_conv (Conv2  (None, None, None, 1024)     263168    ['conv4_block5_2_relu[0][0]'] \n",
      " D)                                                                                               \n",
      "                                                                                                  \n",
      " conv4_block5_3_bn (BatchNo  (None, None, None, 1024)     4096      ['conv4_block5_3_conv[0][0]'] \n",
      " rmalization)                                                                                     \n",
      "                                                                                                  \n",
      " conv4_block5_add (Add)      (None, None, None, 1024)     0         ['conv4_block4_out[0][0]',    \n",
      "                                                                     'conv4_block5_3_bn[0][0]']   \n",
      "                                                                                                  \n",
      " conv4_block5_out (Activati  (None, None, None, 1024)     0         ['conv4_block5_add[0][0]']    \n",
      " on)                                                                                              \n",
      "                                                                                                  \n",
      " conv4_block6_1_conv (Conv2  (None, None, None, 256)      262400    ['conv4_block5_out[0][0]']    \n",
      " D)                                                                                               \n",
      "                                                                                                  \n",
      " conv4_block6_1_bn (BatchNo  (None, None, None, 256)      1024      ['conv4_block6_1_conv[0][0]'] \n",
      " rmalization)                                                                                     \n",
      "                                                                                                  \n",
      " conv4_block6_1_relu (Activ  (None, None, None, 256)      0         ['conv4_block6_1_bn[0][0]']   \n",
      " ation)                                                                                           \n",
      "                                                                                                  \n",
      " conv4_block6_2_conv (Conv2  (None, None, None, 256)      590080    ['conv4_block6_1_relu[0][0]'] \n",
      " D)                                                                                               \n",
      "                                                                                                  \n",
      " conv4_block6_2_bn (BatchNo  (None, None, None, 256)      1024      ['conv4_block6_2_conv[0][0]'] \n",
      " rmalization)                                                                                     \n",
      "                                                                                                  \n",
      " conv4_block6_2_relu (Activ  (None, None, None, 256)      0         ['conv4_block6_2_bn[0][0]']   \n",
      " ation)                                                                                           \n",
      "                                                                                                  \n",
      " conv4_block6_3_conv (Conv2  (None, None, None, 1024)     263168    ['conv4_block6_2_relu[0][0]'] \n",
      " D)                                                                                               \n",
      "                                                                                                  \n",
      " conv4_block6_3_bn (BatchNo  (None, None, None, 1024)     4096      ['conv4_block6_3_conv[0][0]'] \n",
      " rmalization)                                                                                     \n",
      "                                                                                                  \n",
      " conv4_block6_add (Add)      (None, None, None, 1024)     0         ['conv4_block5_out[0][0]',    \n",
      "                                                                     'conv4_block6_3_bn[0][0]']   \n",
      "                                                                                                  \n",
      " conv4_block6_out (Activati  (None, None, None, 1024)     0         ['conv4_block6_add[0][0]']    \n",
      " on)                                                                                              \n",
      "                                                                                                  \n",
      " conv5_block1_1_conv (Conv2  (None, None, None, 512)      524800    ['conv4_block6_out[0][0]']    \n",
      " D)                                                                                               \n",
      "                                                                                                  \n",
      " conv5_block1_1_bn (BatchNo  (None, None, None, 512)      2048      ['conv5_block1_1_conv[0][0]'] \n",
      " rmalization)                                                                                     \n",
      "                                                                                                  \n",
      " conv5_block1_1_relu (Activ  (None, None, None, 512)      0         ['conv5_block1_1_bn[0][0]']   \n",
      " ation)                                                                                           \n",
      "                                                                                                  \n",
      " conv5_block1_2_conv (Conv2  (None, None, None, 512)      2359808   ['conv5_block1_1_relu[0][0]'] \n",
      " D)                                                                                               \n",
      "                                                                                                  \n",
      " conv5_block1_2_bn (BatchNo  (None, None, None, 512)      2048      ['conv5_block1_2_conv[0][0]'] \n",
      " rmalization)                                                                                     \n",
      "                                                                                                  \n",
      " conv5_block1_2_relu (Activ  (None, None, None, 512)      0         ['conv5_block1_2_bn[0][0]']   \n",
      " ation)                                                                                           \n",
      "                                                                                                  \n",
      " conv5_block1_0_conv (Conv2  (None, None, None, 2048)     2099200   ['conv4_block6_out[0][0]']    \n",
      " D)                                                                                               \n",
      "                                                                                                  \n",
      " conv5_block1_3_conv (Conv2  (None, None, None, 2048)     1050624   ['conv5_block1_2_relu[0][0]'] \n",
      " D)                                                                                               \n",
      "                                                                                                  \n",
      " conv5_block1_0_bn (BatchNo  (None, None, None, 2048)     8192      ['conv5_block1_0_conv[0][0]'] \n",
      " rmalization)                                                                                     \n",
      "                                                                                                  \n",
      " conv5_block1_3_bn (BatchNo  (None, None, None, 2048)     8192      ['conv5_block1_3_conv[0][0]'] \n",
      " rmalization)                                                                                     \n",
      "                                                                                                  \n",
      " conv5_block1_add (Add)      (None, None, None, 2048)     0         ['conv5_block1_0_bn[0][0]',   \n",
      "                                                                     'conv5_block1_3_bn[0][0]']   \n",
      "                                                                                                  \n",
      " conv5_block1_out (Activati  (None, None, None, 2048)     0         ['conv5_block1_add[0][0]']    \n",
      " on)                                                                                              \n",
      "                                                                                                  \n",
      " conv5_block2_1_conv (Conv2  (None, None, None, 512)      1049088   ['conv5_block1_out[0][0]']    \n",
      " D)                                                                                               \n",
      "                                                                                                  \n",
      " conv5_block2_1_bn (BatchNo  (None, None, None, 512)      2048      ['conv5_block2_1_conv[0][0]'] \n",
      " rmalization)                                                                                     \n",
      "                                                                                                  \n",
      " conv5_block2_1_relu (Activ  (None, None, None, 512)      0         ['conv5_block2_1_bn[0][0]']   \n",
      " ation)                                                                                           \n",
      "                                                                                                  \n",
      " conv5_block2_2_conv (Conv2  (None, None, None, 512)      2359808   ['conv5_block2_1_relu[0][0]'] \n",
      " D)                                                                                               \n",
      "                                                                                                  \n",
      " conv5_block2_2_bn (BatchNo  (None, None, None, 512)      2048      ['conv5_block2_2_conv[0][0]'] \n",
      " rmalization)                                                                                     \n",
      "                                                                                                  \n",
      " conv5_block2_2_relu (Activ  (None, None, None, 512)      0         ['conv5_block2_2_bn[0][0]']   \n",
      " ation)                                                                                           \n",
      "                                                                                                  \n",
      " conv5_block2_3_conv (Conv2  (None, None, None, 2048)     1050624   ['conv5_block2_2_relu[0][0]'] \n",
      " D)                                                                                               \n",
      "                                                                                                  \n",
      " conv5_block2_3_bn (BatchNo  (None, None, None, 2048)     8192      ['conv5_block2_3_conv[0][0]'] \n",
      " rmalization)                                                                                     \n",
      "                                                                                                  \n",
      " conv5_block2_add (Add)      (None, None, None, 2048)     0         ['conv5_block1_out[0][0]',    \n",
      "                                                                     'conv5_block2_3_bn[0][0]']   \n",
      "                                                                                                  \n",
      " conv5_block2_out (Activati  (None, None, None, 2048)     0         ['conv5_block2_add[0][0]']    \n",
      " on)                                                                                              \n",
      "                                                                                                  \n",
      " conv5_block3_1_conv (Conv2  (None, None, None, 512)      1049088   ['conv5_block2_out[0][0]']    \n",
      " D)                                                                                               \n",
      "                                                                                                  \n",
      " conv5_block3_1_bn (BatchNo  (None, None, None, 512)      2048      ['conv5_block3_1_conv[0][0]'] \n",
      " rmalization)                                                                                     \n",
      "                                                                                                  \n",
      " conv5_block3_1_relu (Activ  (None, None, None, 512)      0         ['conv5_block3_1_bn[0][0]']   \n",
      " ation)                                                                                           \n",
      "                                                                                                  \n",
      " conv5_block3_2_conv (Conv2  (None, None, None, 512)      2359808   ['conv5_block3_1_relu[0][0]'] \n",
      " D)                                                                                               \n",
      "                                                                                                  \n",
      " conv5_block3_2_bn (BatchNo  (None, None, None, 512)      2048      ['conv5_block3_2_conv[0][0]'] \n",
      " rmalization)                                                                                     \n",
      "                                                                                                  \n",
      " conv5_block3_2_relu (Activ  (None, None, None, 512)      0         ['conv5_block3_2_bn[0][0]']   \n",
      " ation)                                                                                           \n",
      "                                                                                                  \n",
      " conv5_block3_3_conv (Conv2  (None, None, None, 2048)     1050624   ['conv5_block3_2_relu[0][0]'] \n",
      " D)                                                                                               \n",
      "                                                                                                  \n",
      " conv5_block3_3_bn (BatchNo  (None, None, None, 2048)     8192      ['conv5_block3_3_conv[0][0]'] \n",
      " rmalization)                                                                                     \n",
      "                                                                                                  \n",
      " conv5_block3_add (Add)      (None, None, None, 2048)     0         ['conv5_block2_out[0][0]',    \n",
      "                                                                     'conv5_block3_3_bn[0][0]']   \n",
      "                                                                                                  \n",
      " conv5_block3_out (Activati  (None, None, None, 2048)     0         ['conv5_block3_add[0][0]']    \n",
      " on)                                                                                              \n",
      "                                                                                                  \n",
      "==================================================================================================\n",
      "Total params: 23587712 (89.98 MB)\n",
      "Trainable params: 23534592 (89.78 MB)\n",
      "Non-trainable params: 53120 (207.50 KB)\n",
      "__________________________________________________________________________________________________\n"
     ]
    }
   ],
   "source": [
    "base_model.summary()"
   ]
  },
  {
   "cell_type": "markdown",
   "metadata": {
    "id": "dH12VAZDyul5"
   },
   "source": [
    "# Freeze upto 143 layers"
   ]
  },
  {
   "cell_type": "code",
   "execution_count": null,
   "metadata": {
    "id": "c0SBh3Lau_wy"
   },
   "outputs": [],
   "source": [
    "for layer in base_model.layers[:143]: layer.trainable = False"
   ]
  },
  {
   "cell_type": "code",
   "execution_count": null,
   "metadata": {
    "colab": {
     "base_uri": "https://localhost:8080/"
    },
    "executionInfo": {
     "elapsed": 25,
     "status": "ok",
     "timestamp": 1718500546390,
     "user": {
      "displayName": "zeeshan ahmad",
      "userId": "09790783261567949831"
     },
     "user_tz": 240
    },
    "id": "3KaARg8PvAHZ",
    "outputId": "6bcbeb12-6ac7-439a-eb45-fd3e4de1de31"
   },
   "outputs": [
    {
     "name": "stdout",
     "output_type": "stream",
     "text": [
      "0 input_1 - False\n",
      "1 conv1_pad - False\n",
      "2 conv1_conv - False\n",
      "3 conv1_bn - False\n",
      "4 conv1_relu - False\n",
      "5 pool1_pad - False\n",
      "6 pool1_pool - False\n",
      "7 conv2_block1_1_conv - False\n",
      "8 conv2_block1_1_bn - False\n",
      "9 conv2_block1_1_relu - False\n",
      "10 conv2_block1_2_conv - False\n",
      "11 conv2_block1_2_bn - False\n",
      "12 conv2_block1_2_relu - False\n",
      "13 conv2_block1_0_conv - False\n",
      "14 conv2_block1_3_conv - False\n",
      "15 conv2_block1_0_bn - False\n",
      "16 conv2_block1_3_bn - False\n",
      "17 conv2_block1_add - False\n",
      "18 conv2_block1_out - False\n",
      "19 conv2_block2_1_conv - False\n",
      "20 conv2_block2_1_bn - False\n",
      "21 conv2_block2_1_relu - False\n",
      "22 conv2_block2_2_conv - False\n",
      "23 conv2_block2_2_bn - False\n",
      "24 conv2_block2_2_relu - False\n",
      "25 conv2_block2_3_conv - False\n",
      "26 conv2_block2_3_bn - False\n",
      "27 conv2_block2_add - False\n",
      "28 conv2_block2_out - False\n",
      "29 conv2_block3_1_conv - False\n",
      "30 conv2_block3_1_bn - False\n",
      "31 conv2_block3_1_relu - False\n",
      "32 conv2_block3_2_conv - False\n",
      "33 conv2_block3_2_bn - False\n",
      "34 conv2_block3_2_relu - False\n",
      "35 conv2_block3_3_conv - False\n",
      "36 conv2_block3_3_bn - False\n",
      "37 conv2_block3_add - False\n",
      "38 conv2_block3_out - False\n",
      "39 conv3_block1_1_conv - False\n",
      "40 conv3_block1_1_bn - False\n",
      "41 conv3_block1_1_relu - False\n",
      "42 conv3_block1_2_conv - False\n",
      "43 conv3_block1_2_bn - False\n",
      "44 conv3_block1_2_relu - False\n",
      "45 conv3_block1_0_conv - False\n",
      "46 conv3_block1_3_conv - False\n",
      "47 conv3_block1_0_bn - False\n",
      "48 conv3_block1_3_bn - False\n",
      "49 conv3_block1_add - False\n",
      "50 conv3_block1_out - False\n",
      "51 conv3_block2_1_conv - False\n",
      "52 conv3_block2_1_bn - False\n",
      "53 conv3_block2_1_relu - False\n",
      "54 conv3_block2_2_conv - False\n",
      "55 conv3_block2_2_bn - False\n",
      "56 conv3_block2_2_relu - False\n",
      "57 conv3_block2_3_conv - False\n",
      "58 conv3_block2_3_bn - False\n",
      "59 conv3_block2_add - False\n",
      "60 conv3_block2_out - False\n",
      "61 conv3_block3_1_conv - False\n",
      "62 conv3_block3_1_bn - False\n",
      "63 conv3_block3_1_relu - False\n",
      "64 conv3_block3_2_conv - False\n",
      "65 conv3_block3_2_bn - False\n",
      "66 conv3_block3_2_relu - False\n",
      "67 conv3_block3_3_conv - False\n",
      "68 conv3_block3_3_bn - False\n",
      "69 conv3_block3_add - False\n",
      "70 conv3_block3_out - False\n",
      "71 conv3_block4_1_conv - False\n",
      "72 conv3_block4_1_bn - False\n",
      "73 conv3_block4_1_relu - False\n",
      "74 conv3_block4_2_conv - False\n",
      "75 conv3_block4_2_bn - False\n",
      "76 conv3_block4_2_relu - False\n",
      "77 conv3_block4_3_conv - False\n",
      "78 conv3_block4_3_bn - False\n",
      "79 conv3_block4_add - False\n",
      "80 conv3_block4_out - False\n",
      "81 conv4_block1_1_conv - False\n",
      "82 conv4_block1_1_bn - False\n",
      "83 conv4_block1_1_relu - False\n",
      "84 conv4_block1_2_conv - False\n",
      "85 conv4_block1_2_bn - False\n",
      "86 conv4_block1_2_relu - False\n",
      "87 conv4_block1_0_conv - False\n",
      "88 conv4_block1_3_conv - False\n",
      "89 conv4_block1_0_bn - False\n",
      "90 conv4_block1_3_bn - False\n",
      "91 conv4_block1_add - False\n",
      "92 conv4_block1_out - False\n",
      "93 conv4_block2_1_conv - False\n",
      "94 conv4_block2_1_bn - False\n",
      "95 conv4_block2_1_relu - False\n",
      "96 conv4_block2_2_conv - False\n",
      "97 conv4_block2_2_bn - False\n",
      "98 conv4_block2_2_relu - False\n",
      "99 conv4_block2_3_conv - False\n",
      "100 conv4_block2_3_bn - False\n",
      "101 conv4_block2_add - False\n",
      "102 conv4_block2_out - False\n",
      "103 conv4_block3_1_conv - False\n",
      "104 conv4_block3_1_bn - False\n",
      "105 conv4_block3_1_relu - False\n",
      "106 conv4_block3_2_conv - False\n",
      "107 conv4_block3_2_bn - False\n",
      "108 conv4_block3_2_relu - False\n",
      "109 conv4_block3_3_conv - False\n",
      "110 conv4_block3_3_bn - False\n",
      "111 conv4_block3_add - False\n",
      "112 conv4_block3_out - False\n",
      "113 conv4_block4_1_conv - False\n",
      "114 conv4_block4_1_bn - False\n",
      "115 conv4_block4_1_relu - False\n",
      "116 conv4_block4_2_conv - False\n",
      "117 conv4_block4_2_bn - False\n",
      "118 conv4_block4_2_relu - False\n",
      "119 conv4_block4_3_conv - False\n",
      "120 conv4_block4_3_bn - False\n",
      "121 conv4_block4_add - False\n",
      "122 conv4_block4_out - False\n",
      "123 conv4_block5_1_conv - False\n",
      "124 conv4_block5_1_bn - False\n",
      "125 conv4_block5_1_relu - False\n",
      "126 conv4_block5_2_conv - False\n",
      "127 conv4_block5_2_bn - False\n",
      "128 conv4_block5_2_relu - False\n",
      "129 conv4_block5_3_conv - False\n",
      "130 conv4_block5_3_bn - False\n",
      "131 conv4_block5_add - False\n",
      "132 conv4_block5_out - False\n",
      "133 conv4_block6_1_conv - False\n",
      "134 conv4_block6_1_bn - False\n",
      "135 conv4_block6_1_relu - False\n",
      "136 conv4_block6_2_conv - False\n",
      "137 conv4_block6_2_bn - False\n",
      "138 conv4_block6_2_relu - False\n",
      "139 conv4_block6_3_conv - False\n",
      "140 conv4_block6_3_bn - False\n",
      "141 conv4_block6_add - False\n",
      "142 conv4_block6_out - False\n",
      "143 conv5_block1_1_conv - True\n",
      "144 conv5_block1_1_bn - True\n",
      "145 conv5_block1_1_relu - True\n",
      "146 conv5_block1_2_conv - True\n",
      "147 conv5_block1_2_bn - True\n",
      "148 conv5_block1_2_relu - True\n",
      "149 conv5_block1_0_conv - True\n",
      "150 conv5_block1_3_conv - True\n",
      "151 conv5_block1_0_bn - True\n",
      "152 conv5_block1_3_bn - True\n",
      "153 conv5_block1_add - True\n",
      "154 conv5_block1_out - True\n",
      "155 conv5_block2_1_conv - True\n",
      "156 conv5_block2_1_bn - True\n",
      "157 conv5_block2_1_relu - True\n",
      "158 conv5_block2_2_conv - True\n",
      "159 conv5_block2_2_bn - True\n",
      "160 conv5_block2_2_relu - True\n",
      "161 conv5_block2_3_conv - True\n",
      "162 conv5_block2_3_bn - True\n",
      "163 conv5_block2_add - True\n",
      "164 conv5_block2_out - True\n",
      "165 conv5_block3_1_conv - True\n",
      "166 conv5_block3_1_bn - True\n",
      "167 conv5_block3_1_relu - True\n",
      "168 conv5_block3_2_conv - True\n",
      "169 conv5_block3_2_bn - True\n",
      "170 conv5_block3_2_relu - True\n",
      "171 conv5_block3_3_conv - True\n",
      "172 conv5_block3_3_bn - True\n",
      "173 conv5_block3_add - True\n",
      "174 conv5_block3_out - True\n"
     ]
    }
   ],
   "source": [
    "for i, layer in enumerate(base_model.layers):\n",
    "  print(i, layer.name,\"-\", layer.trainable)"
   ]
  },
  {
   "cell_type": "markdown",
   "metadata": {
    "id": "3YqeXAweZq03"
   },
   "source": [
    "# Adding more layers to base model"
   ]
  },
  {
   "cell_type": "code",
   "execution_count": null,
   "metadata": {
    "id": "WDplZTuxvuVh"
   },
   "outputs": [],
   "source": [
    "model = Sequential()\n",
    "model.add(base_model)\n",
    "model.add(tf.keras.layers.GlobalAveragePooling2D()) # For Flattening\n",
    "model.add(Dense(1024, activation='relu'))\n",
    "model.add(BatchNormalization())\n",
    "model.add(Dropout(0.5))\n",
    "model.add(Dense(1, activation='sigmoid'))"
   ]
  },
  {
   "cell_type": "markdown",
   "metadata": {
    "id": "PRzRGIRWikeH"
   },
   "source": [
    "# Training and Testing the model"
   ]
  },
  {
   "cell_type": "code",
   "execution_count": null,
   "metadata": {
    "id": "WX_W8cqcica_"
   },
   "outputs": [],
   "source": [
    "model.compile(optimizer = tf.keras.optimizers.SGD(learning_rate = 0.001, momentum = 0.9) ,\n",
    "              loss='binary_crossentropy',\n",
    "              metrics=['accuracy'])"
   ]
  },
  {
   "cell_type": "code",
   "execution_count": null,
   "metadata": {
    "colab": {
     "base_uri": "https://localhost:8080/"
    },
    "executionInfo": {
     "elapsed": 469474,
     "status": "ok",
     "timestamp": 1718501015851,
     "user": {
      "displayName": "zeeshan ahmad",
      "userId": "09790783261567949831"
     },
     "user_tz": 240
    },
    "id": "fgAsarUoUmG-",
    "outputId": "7a5d883e-4adc-4012-c71d-052ec0522498"
   },
   "outputs": [
    {
     "name": "stdout",
     "output_type": "stream",
     "text": [
      "Epoch 1/20\n",
      "25/25 [==============================] - 34s 832ms/step - loss: 0.8735 - accuracy: 0.5337 - val_loss: 0.7660 - val_accuracy: 0.5000\n",
      "Epoch 2/20\n",
      "25/25 [==============================] - 26s 1s/step - loss: 0.7194 - accuracy: 0.5587 - val_loss: 0.7163 - val_accuracy: 0.5000\n",
      "Epoch 3/20\n",
      "25/25 [==============================] - 27s 1s/step - loss: 0.7030 - accuracy: 0.5763 - val_loss: 0.7119 - val_accuracy: 0.5000\n",
      "Epoch 4/20\n",
      "25/25 [==============================] - 20s 800ms/step - loss: 0.6972 - accuracy: 0.5775 - val_loss: 0.7123 - val_accuracy: 0.5000\n",
      "Epoch 5/20\n",
      "25/25 [==============================] - 22s 863ms/step - loss: 0.6959 - accuracy: 0.5800 - val_loss: 0.6906 - val_accuracy: 0.5200\n",
      "Epoch 6/20\n",
      "25/25 [==============================] - 20s 795ms/step - loss: 0.6904 - accuracy: 0.6012 - val_loss: 0.7237 - val_accuracy: 0.5000\n",
      "Epoch 7/20\n",
      "25/25 [==============================] - 21s 855ms/step - loss: 0.6786 - accuracy: 0.5975 - val_loss: 0.6958 - val_accuracy: 0.5000\n",
      "Epoch 8/20\n",
      "25/25 [==============================] - 21s 827ms/step - loss: 0.6661 - accuracy: 0.6075 - val_loss: 0.6843 - val_accuracy: 0.6350\n",
      "Epoch 9/20\n",
      "25/25 [==============================] - 22s 869ms/step - loss: 0.6913 - accuracy: 0.5713 - val_loss: 0.7530 - val_accuracy: 0.5000\n",
      "Epoch 10/20\n",
      "25/25 [==============================] - 20s 788ms/step - loss: 0.6633 - accuracy: 0.6388 - val_loss: 0.6981 - val_accuracy: 0.5000\n",
      "Epoch 11/20\n",
      "25/25 [==============================] - 21s 865ms/step - loss: 0.6812 - accuracy: 0.6325 - val_loss: 0.7146 - val_accuracy: 0.5000\n",
      "Epoch 12/20\n",
      "25/25 [==============================] - 20s 790ms/step - loss: 0.6787 - accuracy: 0.5913 - val_loss: 0.9003 - val_accuracy: 0.5000\n",
      "Epoch 13/20\n",
      "25/25 [==============================] - 26s 1s/step - loss: 0.6709 - accuracy: 0.6112 - val_loss: 0.8004 - val_accuracy: 0.5000\n",
      "Epoch 14/20\n",
      "25/25 [==============================] - 21s 833ms/step - loss: 0.6594 - accuracy: 0.6150 - val_loss: 0.7383 - val_accuracy: 0.5000\n",
      "Epoch 15/20\n",
      "25/25 [==============================] - 20s 807ms/step - loss: 0.6502 - accuracy: 0.6300 - val_loss: 0.6819 - val_accuracy: 0.5250\n",
      "Epoch 16/20\n",
      "25/25 [==============================] - 21s 828ms/step - loss: 0.6457 - accuracy: 0.6350 - val_loss: 0.7344 - val_accuracy: 0.5000\n",
      "Epoch 17/20\n",
      "25/25 [==============================] - 21s 822ms/step - loss: 0.6535 - accuracy: 0.6288 - val_loss: 0.6774 - val_accuracy: 0.5500\n",
      "Epoch 18/20\n",
      "25/25 [==============================] - 20s 794ms/step - loss: 0.6545 - accuracy: 0.6300 - val_loss: 0.6548 - val_accuracy: 0.5900\n",
      "Epoch 19/20\n",
      "25/25 [==============================] - 26s 1s/step - loss: 0.6705 - accuracy: 0.6000 - val_loss: 0.7233 - val_accuracy: 0.5100\n",
      "Epoch 20/20\n",
      "25/25 [==============================] - 20s 788ms/step - loss: 0.6558 - accuracy: 0.6125 - val_loss: 1.3731 - val_accuracy: 0.5000\n"
     ]
    }
   ],
   "source": [
    "history = model.fit(training_set, epochs = 20,  validation_data = test_set)"
   ]
  },
  {
   "cell_type": "code",
   "execution_count": null,
   "metadata": {
    "id": "llZrWN7UUmG_"
   },
   "outputs": [],
   "source": [
    "trainAcc = [100 * x for x in history.history['accuracy']]\n",
    "testAcc = [100 * x for x in history.history['val_accuracy']]"
   ]
  },
  {
   "cell_type": "code",
   "execution_count": null,
   "metadata": {
    "colab": {
     "base_uri": "https://localhost:8080/",
     "height": 451
    },
    "executionInfo": {
     "elapsed": 674,
     "status": "ok",
     "timestamp": 1718501016523,
     "user": {
      "displayName": "zeeshan ahmad",
      "userId": "09790783261567949831"
     },
     "user_tz": 240
    },
    "id": "QxCikJe29XBT",
    "outputId": "e1285184-60d7-483b-f320-6b4c0c284b3b"
   },
   "outputs": [
    {
     "data": {
      "image/png": "[encoded data removed]",
      "text/plain": [
       "<Figure size 1800x600 with 2 Axes>"
      ]
     },
     "metadata": {},
     "output_type": "display_data"
    }
   ],
   "source": [
    "fig,ax = plt.subplots(1,2,figsize=(18,6))\n",
    "\n",
    "ax[0].plot(history.history['loss'], 'g', lw = 3, label = 'Train')\n",
    "ax[0].set_xlabel('Epochs', fontsize = 15)\n",
    "ax[0].set_ylabel('Loss', fontsize = 15)\n",
    "ax[0].legend(fontsize = 15)\n",
    "ax[0].set_title('Training Loss', fontsize = 15)\n",
    "\n",
    "\n",
    "ax[1].plot(trainAcc, label ='Train', lw = 3)\n",
    "ax[1].plot(testAcc, label ='Test', lw = 3)\n",
    "ax[1].set_xlabel('Epochs', fontsize = 15)\n",
    "ax[1].set_ylabel('Accuracy (%)', fontsize = 15)\n",
    "ax[1].set_ylim([10,110])\n",
    "ax[1].set_title(f'Train Accuracy: {trainAcc[-1]:.2f}% \\n Test Accuracy: {testAcc[-1]:.2f}%', fontsize = 15)\n",
    "ax[1].legend(fontsize = 15)\n",
    "\n",
    "plt.show()"
   ]
  },
  {
   "cell_type": "code",
   "execution_count": null,
   "metadata": {
    "id": "3mH5n-FE9XBT"
   },
   "outputs": [],
   "source": [
    "import tensorflow as tf\n",
    "from keras.models import Sequential\n",
    "from keras.layers import Activation, Dropout, Flatten, Dense, Conv2D, MaxPooling2D\n",
    "from keras.preprocessing.image import ImageDataGenerator\n",
    "import splitfolders\n",
    "import numpy as np\n",
    "import pandas as pd\n",
    "import matplotlib.pyplot as plt\n",
    "from matplotlib import style\n",
    "style.use('dark_background')"
   ]
  },
  {
   "cell_type": "markdown",
   "metadata": {},
   "source": [
    "## Prepare train and test sets, loaders"
   ]
  },
  {
   "cell_type": "code",
   "execution_count": null,
   "metadata": {},
   "outputs": [],
   "source": [
    "splitfolders.ratio(\"dataset\", output=\"Train_Test\",\n",
    "    seed=1337, ratio=(.8, .2), group_prefix=None, move=False) # default values"
   ]
  },
  {
   "cell_type": "markdown",
   "metadata": {},
   "source": [
    "# Creating train and test data generators"
   ]
  },
  {
   "cell_type": "code",
   "execution_count": null,
   "metadata": {},
   "outputs": [],
   "source": [
    "train_datagen = ImageDataGenerator(rescale = 1./255)\n",
    "\n",
    "test_datagen = ImageDataGenerator(rescale = 1./255)"
   ]
  },
  {
   "cell_type": "code",
   "execution_count": null,
   "metadata": {},
   "outputs": [],
   "source": [
    "num_classes = 2\n",
    "img_shape = (200,200,3)\n",
    "batch_size = 32"
   ]
  },
  {
   "cell_type": "markdown",
   "metadata": {},
   "source": [
    "## Creating Training and Testing Datasets\n"
   ]
  },
  {
   "cell_type": "code",
   "execution_count": null,
   "metadata": {},
   "outputs": [],
   "source": [
    "training_set = train_datagen.flow_from_directory('Train_Test/train',\n",
    "                                                 target_size = (200,200),\n",
    "                                                 class_mode='binary',\n",
    "                                                 shuffle = True,\n",
    "                                                 batch_size = batch_size)\n"
   ]
  },
  {
   "cell_type": "code",
   "execution_count": null,
   "metadata": {},
   "outputs": [],
   "source": [
    "test_set = train_datagen.flow_from_directory('Train_Test/val',\n",
    "                                                 target_size = (200,200),\n",
    "                                                 class_mode='binary',\n",
    "                                                 shuffle = False,\n",
    "                                                 batch_size = batch_size)\n"
   ]
  },
  {
   "cell_type": "markdown",
   "metadata": {},
   "source": [
    "##  Create CNN"
   ]
  },
  {
   "cell_type": "code",
   "execution_count": null,
   "metadata": {},
   "outputs": [],
   "source": [
    "model = Sequential()\n",
    "model.add(Conv2D(10 ,kernel_size = (5, 5), padding = 'SAME', input_shape = img_shape))\n",
    "model.add(Activation('relu'))\n",
    "model.add(MaxPooling2D(pool_size=(2, 2),strides = 2))\n",
    "\n",
    "model.add(Conv2D(20, (5, 5), padding='SAME')) # \"SAME\" tries to pad evenly left and right\n",
    "model.add(Activation('relu'))\n",
    "model.add(MaxPooling2D(pool_size=(2, 2),strides = 2))\n",
    "\n",
    "model.add(Flatten())\n",
    "model.add(Dense(64))\n",
    "model.add(Activation('relu'))\n",
    "model.add(Dense(1))\n",
    "model.add(Activation('sigmoid'))\n",
    "\n"
   ]
  },
  {
   "cell_type": "code",
   "execution_count": null,
   "metadata": {},
   "outputs": [],
   "source": [
    "model.summary()"
   ]
  },
  {
   "cell_type": "markdown",
   "metadata": {},
   "source": [
    "# Setting Early Stopping Criterion"
   ]
  },
  {
   "cell_type": "code",
   "execution_count": null,
   "metadata": {},
   "outputs": [],
   "source": [
    "from keras.callbacks import EarlyStopping\n",
    "earlystop = EarlyStopping(monitor = 'val_loss',\n",
    "                             min_delta = 0,\n",
    "                             patience = 3,\n",
    "                             verbose =1,\n",
    "                             restore_best_weights = True)\n"
   ]
  },
  {
   "cell_type": "markdown",
   "metadata": {},
   "source": [
    "# Training and Testing the model"
   ]
  },
  {
   "cell_type": "code",
   "execution_count": null,
   "metadata": {},
   "outputs": [],
   "source": [
    "model.compile(optimizer = tf.keras.optimizers.SGD(learning_rate = 0.01, momentum = 0.9) ,\n",
    "              loss='binary_crossentropy',\n",
    "              metrics=['accuracy'])"
   ]
  },
  {
   "cell_type": "code",
   "execution_count": null,
   "metadata": {},
   "outputs": [],
   "source": [
    "hist = model.fit(training_set,\n",
    "                              epochs = 500,\n",
    "                              validation_data = test_set,\n",
    "                              callbacks = earlystop)"
   ]
  },
  {
   "cell_type": "code",
   "execution_count": null,
   "metadata": {},
   "outputs": [],
   "source": [
    "trainAcc = [100 * x for x in hist.history['accuracy']]\n",
    "testAcc = [100 * x for x in hist.history['val_accuracy']]"
   ]
  },
  {
   "cell_type": "markdown",
   "metadata": {},
   "source": [
    "# Visualize the Model Performance"
   ]
  },
  {
   "cell_type": "code",
   "execution_count": null,
   "metadata": {},
   "outputs": [],
   "source": [
    "fig,ax = plt.subplots(1,2,figsize=(18,6))\n",
    "\n",
    "ax[0].plot(hist.history['loss'], 'g', lw = 3, label = 'Training Loss')\n",
    "ax[0].plot(hist.history['val_loss'], 'y', lw = 3, label = 'Validation Loss')\n",
    "ax[0].set_xlabel('Epochs', fontsize = 15)\n",
    "ax[0].set_ylabel('Loss', fontsize = 15)\n",
    "ax[0].legend(fontsize = 15)\n",
    "ax[0].set_title('Training Loss', fontsize = 15)\n",
    "\n",
    "\n",
    "ax[1].plot(trainAcc, label ='Train', lw = 3)\n",
    "ax[1].plot(testAcc, label ='Test', lw = 3)\n",
    "ax[1].set_xlabel('Epochs', fontsize = 15)\n",
    "ax[1].set_ylabel('Accuracy (%)', fontsize = 15)\n",
    "ax[1].set_ylim([10,110])\n",
    "ax[1].set_title(f'Train Accuracy: {trainAcc[-1]:.2f}% \\n Test Accuracy: {testAcc[-1]:.2f}%', fontsize = 15)\n",
    "ax[1].legend(fontsize = 15)\n",
    "\n",
    "plt.show()"
   ]
  },
  {
   "cell_type": "code",
   "execution_count": null,
   "metadata": {},
   "outputs": [],
   "source": []
  }
 ],
 "metadata": {
  "accelerator": "GPU",
  "colab": {
   "gpuType": "T4",
   "provenance": []
  },
  "kernelspec": {
   "display_name": "Python 3",
   "name": "python3"
  },
  "language_info": {
   "codemirror_mode": {
    "name": "ipython",
    "version": 3
   },
   "file_extension": ".py",
   "mimetype": "text/x-python",
   "name": "python",
   "nbconvert_exporter": "python",
   "pygments_lexer": "ipython3",
   "version": "3.9.7"
  }
 },
 "nbformat": 4,
 "nbformat_minor": 0
}
