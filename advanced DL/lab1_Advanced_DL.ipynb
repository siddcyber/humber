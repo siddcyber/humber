{
 "cells": [
  {
   "cell_type": "code",
   "execution_count": 1,
   "metadata": {},
   "outputs": [],
   "source": [
    "import numpy as np"
   ]
  },
  {
   "cell_type": "code",
   "execution_count": 2,
   "metadata": {},
   "outputs": [],
   "source": [
    "# Define the AND logic inputs and their corresponding outputs\n",
    "# Input format: (x1, x2) -> Output\n",
    "X = np.array([[0, 0],  # Input 1\n",
    "              [0, 1],  # Input 2\n",
    "              [1, 0],  # Input 3\n",
    "              [1, 1]]) # Input 4\n",
    "\n",
    "y = np.array([0, 0, 0, 1])  # Corresponding AND outputs"
   ]
  },
  {
   "cell_type": "code",
   "execution_count": 3,
   "metadata": {},
   "outputs": [],
   "source": [
    "# Initialize weights and bias\n",
    "weights = np.zeros(2)  # Two inputs, hence 2 weights\n",
    "bias = 0"
   ]
  },
  {
   "cell_type": "code",
   "execution_count": 4,
   "metadata": {},
   "outputs": [],
   "source": [
    "# Perceptron learning rate and number of iterations\n",
    "learning_rate = 0.1\n",
    "iterations = 1000"
   ]
  },
  {
   "cell_type": "code",
   "execution_count": 5,
   "metadata": {},
   "outputs": [],
   "source": [
    "# Activation function (Step function)\n",
    "def activation(x):\n",
    "    return 1 if x >= 0 else 0"
   ]
  },
  {
   "cell_type": "code",
   "execution_count": 6,
   "metadata": {},
   "outputs": [
    {
     "name": "stdout",
     "output_type": "stream",
     "text": [
      "Epoch 1: Weights: [0.1 0.1], Bias: 0.0\n",
      "Epoch 101: Weights: [0.2 0.1], Bias: -0.20000000000000004\n",
      "Epoch 201: Weights: [0.2 0.1], Bias: -0.20000000000000004\n",
      "Epoch 301: Weights: [0.2 0.1], Bias: -0.20000000000000004\n",
      "Epoch 401: Weights: [0.2 0.1], Bias: -0.20000000000000004\n",
      "Epoch 501: Weights: [0.2 0.1], Bias: -0.20000000000000004\n",
      "Epoch 601: Weights: [0.2 0.1], Bias: -0.20000000000000004\n",
      "Epoch 701: Weights: [0.2 0.1], Bias: -0.20000000000000004\n",
      "Epoch 801: Weights: [0.2 0.1], Bias: -0.20000000000000004\n",
      "Epoch 901: Weights: [0.2 0.1], Bias: -0.20000000000000004\n"
     ]
    }
   ],
   "source": [
    "# Training the perceptron using the perceptron learning rule\n",
    "for epoch in range(iterations):\n",
    "    for i in range(len(X)):\n",
    "        # Calculate the weighted sum\n",
    "        weighted_sum = np.dot(X[i], weights) + bias\n",
    "        # Apply activation function\n",
    "        prediction = activation(weighted_sum)\n",
    "        \n",
    "        # Update weights and bias if there is an error\n",
    "        error = y[i] - prediction\n",
    "        weights += learning_rate * error * X[i]\n",
    "        bias += learning_rate * error\n",
    "\n",
    "    # Optional: Print weights and bias after each epoch (for debugging)\n",
    "    if epoch % 100 == 0:\n",
    "        print(f\"Epoch {epoch+1}: Weights: {weights}, Bias: {bias}\")"
   ]
  },
  {
   "cell_type": "code",
   "execution_count": 7,
   "metadata": {},
   "outputs": [
    {
     "name": "stdout",
     "output_type": "stream",
     "text": [
      "Final Weights: [0.2 0.1]\n",
      "Final Bias: -0.20000000000000004\n"
     ]
    }
   ],
   "source": [
    "# Final weights and bias after training\n",
    "print(f\"Final Weights: {weights}\")\n",
    "print(f\"Final Bias: {bias}\")"
   ]
  },
  {
   "cell_type": "code",
   "execution_count": 8,
   "metadata": {},
   "outputs": [],
   "source": [
    "# Testing the perceptron\n",
    "def predict(inputs):\n",
    "    weighted_sum = np.dot(inputs, weights) + bias\n",
    "    return activation(weighted_sum)"
   ]
  },
  {
   "cell_type": "code",
   "execution_count": 9,
   "metadata": {},
   "outputs": [
    {
     "name": "stdout",
     "output_type": "stream",
     "text": [
      "Input: [0 0] => Predicted Output: 0, Actual Output: 0\n",
      "Input: [0 1] => Predicted Output: 0, Actual Output: 0\n",
      "Input: [1 0] => Predicted Output: 0, Actual Output: 0\n",
      "Input: [1 1] => Predicted Output: 1, Actual Output: 1\n"
     ]
    }
   ],
   "source": [
    "# Test on all inputs\n",
    "for i in range(len(X)):\n",
    "    print(f\"Input: {X[i]} => Predicted Output: {predict(X[i])}, Actual Output: {y[i]}\")"
   ]
  },
  {
   "cell_type": "markdown",
   "metadata": {},
   "source": [
    "### OR"
   ]
  },
  {
   "cell_type": "code",
   "execution_count": 10,
   "metadata": {},
   "outputs": [],
   "source": [
    "# Define the OR logic inputs and their corresponding outputs\n",
    "# Input format: (x1, x2) -> Output\n",
    "X = np.array([[0, 0],  # Input 1\n",
    "              [0, 1],  # Input 2\n",
    "              [1, 0],  # Input 3\n",
    "              [1, 1]]) # Input 4\n",
    "\n",
    "y = np.array([0, 1, 1, 1])  # Corresponding OR outputs"
   ]
  },
  {
   "cell_type": "code",
   "execution_count": 11,
   "metadata": {},
   "outputs": [],
   "source": [
    "# Initialize weights and bias\n",
    "weights = np.zeros(2)  # Two inputs, hence 2 weights\n",
    "bias = 0"
   ]
  },
  {
   "cell_type": "code",
   "execution_count": 12,
   "metadata": {},
   "outputs": [],
   "source": [
    "# Perceptron learning rate and number of iterations\n",
    "learning_rate = 0.1\n",
    "iterations = 1000"
   ]
  },
  {
   "cell_type": "code",
   "execution_count": 13,
   "metadata": {},
   "outputs": [
    {
     "name": "stdout",
     "output_type": "stream",
     "text": [
      "Epoch 1: Weights: [0.  0.1], Bias: 0.0\n",
      "Epoch 101: Weights: [0.1 0.1], Bias: -0.1\n",
      "Epoch 201: Weights: [0.1 0.1], Bias: -0.1\n",
      "Epoch 301: Weights: [0.1 0.1], Bias: -0.1\n",
      "Epoch 401: Weights: [0.1 0.1], Bias: -0.1\n",
      "Epoch 501: Weights: [0.1 0.1], Bias: -0.1\n",
      "Epoch 601: Weights: [0.1 0.1], Bias: -0.1\n",
      "Epoch 701: Weights: [0.1 0.1], Bias: -0.1\n",
      "Epoch 801: Weights: [0.1 0.1], Bias: -0.1\n",
      "Epoch 901: Weights: [0.1 0.1], Bias: -0.1\n"
     ]
    }
   ],
   "source": [
    "# Training the perceptron using the perceptron learning rule\n",
    "for epoch in range(iterations):\n",
    "    for i in range(len(X)):\n",
    "        # Calculate the weighted sum\n",
    "        weighted_sum = np.dot(X[i], weights) + bias\n",
    "        # Apply activation function\n",
    "        prediction = activation(weighted_sum)\n",
    "        \n",
    "        # Update weights and bias if there is an error\n",
    "        error = y[i] - prediction\n",
    "        weights += learning_rate * error * X[i]\n",
    "        bias += learning_rate * error\n",
    "\n",
    "    # Optional: Print weights and bias after each epoch (for debugging)\n",
    "    if epoch % 100 == 0:\n",
    "        print(f\"Epoch {epoch+1}: Weights: {weights}, Bias: {bias}\")"
   ]
  },
  {
   "cell_type": "code",
   "execution_count": 14,
   "metadata": {},
   "outputs": [
    {
     "name": "stdout",
     "output_type": "stream",
     "text": [
      "Final Weights: [0.1 0.1]\n",
      "Final Bias: -0.1\n"
     ]
    }
   ],
   "source": [
    "# Final weights and bias after training\n",
    "print(f\"Final Weights: {weights}\")\n",
    "print(f\"Final Bias: {bias}\")"
   ]
  },
  {
   "cell_type": "code",
   "execution_count": 15,
   "metadata": {},
   "outputs": [],
   "source": [
    "# Testing the perceptron\n",
    "def predict(inputs):\n",
    "    weighted_sum = np.dot(inputs, weights) + bias\n",
    "    return activation(weighted_sum)"
   ]
  },
  {
   "cell_type": "code",
   "execution_count": 16,
   "metadata": {},
   "outputs": [
    {
     "name": "stdout",
     "output_type": "stream",
     "text": [
      "Input: [0 0] => Predicted Output: 0, Actual Output: 0\n",
      "Input: [0 1] => Predicted Output: 1, Actual Output: 1\n",
      "Input: [1 0] => Predicted Output: 1, Actual Output: 1\n",
      "Input: [1 1] => Predicted Output: 1, Actual Output: 1\n"
     ]
    }
   ],
   "source": [
    "# Test on all inputs\n",
    "for i in range(len(X)):\n",
    "    print(f\"Input: {X[i]} => Predicted Output: {predict(X[i])}, Actual Output: {y[i]}\")"
   ]
  }
 ],
 "metadata": {
  "kernelspec": {
   "display_name": "Python 3 (ipykernel)",
   "language": "python",
   "name": "python3"
  },
  "language_info": {
   "codemirror_mode": {
    "name": "ipython",
    "version": 3
   },
   "file_extension": ".py",
   "mimetype": "text/x-python",
   "name": "python",
   "nbconvert_exporter": "python",
   "pygments_lexer": "ipython3",
   "version": "3.12.4"
  }
 },
 "nbformat": 4,
 "nbformat_minor": 4
}
