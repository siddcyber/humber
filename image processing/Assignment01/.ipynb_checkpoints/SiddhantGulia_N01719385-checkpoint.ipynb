{
 "cells": [
  {
   "cell_type": "code",
   "execution_count": 1,
   "id": "c06696ea-5829-42e2-b601-93a98c22ffb6",
   "metadata": {},
   "outputs": [
    {
     "ename": "ModuleNotFoundError",
     "evalue": "No module named 'cv2'",
     "output_type": "error",
     "traceback": [
      "\u001b[1;31m---------------------------------------------------------------------------\u001b[0m",
      "\u001b[1;31mModuleNotFoundError\u001b[0m                       Traceback (most recent call last)",
      "Cell \u001b[1;32mIn[1], line 1\u001b[0m\n\u001b[1;32m----> 1\u001b[0m \u001b[38;5;28;01mimport\u001b[39;00m \u001b[38;5;21;01mcv2\u001b[39;00m\n\u001b[0;32m      2\u001b[0m \u001b[38;5;28;01mimport\u001b[39;00m \u001b[38;5;21;01mnumpy\u001b[39;00m \u001b[38;5;28;01mas\u001b[39;00m \u001b[38;5;21;01mnp\u001b[39;00m\n\u001b[0;32m      3\u001b[0m \u001b[38;5;28;01mimport\u001b[39;00m \u001b[38;5;21;01mmatplotlib\u001b[39;00m\u001b[38;5;21;01m.\u001b[39;00m\u001b[38;5;21;01mpyplot\u001b[39;00m \u001b[38;5;28;01mas\u001b[39;00m \u001b[38;5;21;01mplt\u001b[39;00m\n",
      "\u001b[1;31mModuleNotFoundError\u001b[0m: No module named 'cv2'"
     ]
    }
   ],
   "source": [
    "import cv2\n",
    "import numpy as np\n",
    "import matplotlib.pyplot as plt"
   ]
  },
  {
   "cell_type": "code",
   "execution_count": null,
   "id": "505a659b-3b2a-4b46-85cb-c4e3dbe3118c",
   "metadata": {},
   "outputs": [],
   "source": [
    "# Step 1: Read the images\n",
    "color_image = cv2.imread('AllColorsImage.png')\n",
    "sunflower_image = cv2.imread('SunFlower.png')"
   ]
  },
  {
   "cell_type": "code",
   "execution_count": null,
   "id": "a913ca83-66f0-4337-955e-95746d06bc55",
   "metadata": {},
   "outputs": [],
   "source": [
    "# Display the images using Matplotlib\n",
    "def display_image(image, title):\n",
    "    plt.imshow(cv2.cvtColor(image, cv2.COLOR_BGR2RGB))\n",
    "    plt.title(title)\n",
    "    plt.axis('off')\n",
    "    plt.show()\n",
    "\n",
    "display_image(color_image, \"All Colors Image\")\n",
    "display_image(sunflower_image, \"Sunflower Image\")"
   ]
  },
  {
   "cell_type": "code",
   "execution_count": null,
   "id": "450ba300-9fa0-49af-864e-03c83531eb8d",
   "metadata": {},
   "outputs": [],
   "source": [
    "# Step 2: Check the data type of the image\n",
    "print(\"Data type of color_image:\", color_image.dtype)\n",
    "print(\"Data type of sunflower_image:\", sunflower_image.dtype)"
   ]
  },
  {
   "cell_type": "code",
   "execution_count": null,
   "id": "ca5564a2-e958-4f3a-adf8-03df34db8f18",
   "metadata": {},
   "outputs": [],
   "source": [
    "# Step 3: Check the dimensions of the image\n",
    "print(\"Dimensions of color_image:\", color_image.shape)\n",
    "print(\"Dimensions of sunflower_image:\", sunflower_image.shape)"
   ]
  },
  {
   "cell_type": "code",
   "execution_count": null,
   "id": "1b7e1012-184d-4b68-96f7-d611877e2231",
   "metadata": {},
   "outputs": [],
   "source": [
    "# Step 4: Find the maximum and minimum values of pixels\n",
    "print(\"Max and Min pixel values in color_image:\", color_image.max(), color_image.min())\n",
    "print(\"Max and Min pixel values in sunflower_image:\", sunflower_image.max(), sunflower_image.min())"
   ]
  },
  {
   "cell_type": "code",
   "execution_count": null,
   "id": "1449f392-02b1-42f5-86dd-ee86b70e6c7a",
   "metadata": {},
   "outputs": [],
   "source": [
    "# Step 5: Convert the image into float format and display it\n",
    "color_image_float = color_image.astype(np.float32)\n",
    "sunflower_image_float = sunflower_image.astype(np.float32)\n",
    "\n",
    "display_image(color_image_float / 255.0, \"Color Image in Float Format\")\n",
    "display_image(sunflower_image_float / 255.0, \"Sunflower Image in Float Format\")\n",
    "\n",
    "# Find the maximum and minimum values in the float format\n",
    "print(\"Max and Min pixel values in color_image_float:\", color_image_float.max(), color_image_float.min())\n",
    "print(\"Max and Min pixel values in sunflower_image_float:\", sunflower_image_float.max(), sunflower_image_float.min())"
   ]
  },
  {
   "cell_type": "code",
   "execution_count": null,
   "id": "0d14e8d2-aecb-4dd6-b259-5e7772f98ef5",
   "metadata": {},
   "outputs": [],
   "source": [
    "# Step 6: Convert the image into grayscale using OpenCV\n",
    "gray_color_image = cv2.cvtColor(color_image, cv2.COLOR_BGR2GRAY)\n",
    "gray_sunflower_image = cv2.cvtColor(sunflower_image, cv2.COLOR_BGR2GRAY)\n",
    "\n",
    "plt.imshow(gray_color_image, cmap='gray')\n",
    "plt.title(\"Gray Scale - Color Image\")\n",
    "plt.axis('off')\n",
    "plt.show()\n",
    "\n",
    "plt.imshow(gray_sunflower_image, cmap='gray')\n",
    "plt.title(\"Gray Scale - Sunflower Image\")\n",
    "plt.axis('off')\n",
    "plt.show()"
   ]
  },
  {
   "cell_type": "code",
   "execution_count": null,
   "id": "a9471599-532f-42d5-aaa7-acc9b1f66927",
   "metadata": {},
   "outputs": [],
   "source": [
    "# Step 7: Read the image directly in grayscale format using OpenCV\n",
    "direct_gray_color_image = cv2.imread('AllColorsImage.png', cv2.IMREAD_GRAYSCALE)\n",
    "direct_gray_sunflower_image = cv2.imread('SunFlower.png', cv2.IMREAD_GRAYSCALE)\n",
    "\n",
    "def display_gray(image, title):\n",
    "    plt.imshow(image, cmap='gray')\n",
    "    plt.title(title)\n",
    "    plt.axis('off')\n",
    "    plt.show()\n",
    "\n",
    "display_gray(direct_gray_color_image, \"Direct Grayscale - Color Image\")\n",
    "display_gray(direct_gray_sunflower_image, \"Direct Grayscale - Sunflower Image\")"
   ]
  },
  {
   "cell_type": "code",
   "execution_count": null,
   "id": "0cb44bf5-1e57-4867-ba58-5c997568174a",
   "metadata": {},
   "outputs": [],
   "source": [
    "# Step 8: Extract central 100x100 pixels\n",
    "height, width, _ = color_image.shape\n",
    "center_color_image = color_image[height//2-50:height//2+50, width//2-50:width//2+50]\n",
    "\n",
    "display_image(center_color_image, \"Central 100x100 - Color Image\")"
   ]
  },
  {
   "cell_type": "code",
   "execution_count": null,
   "id": "83e183b7-337c-4243-8cab-53cfa9c29570",
   "metadata": {},
   "outputs": [],
   "source": [
    "# Step 9: Perform Horizontal and Vertical Flipping\n",
    "horizontal_flip = cv2.flip(color_image, 1)  # Horizontal Flip\n",
    "vertical_flip = cv2.flip(color_image, 0)  # Vertical Flip\n",
    "\n",
    "display_image(horizontal_flip, \"Horizontal Flip\")\n",
    "display_image(vertical_flip, \"Vertical Flip\")"
   ]
  },
  {
   "cell_type": "code",
   "execution_count": null,
   "id": "37fedccc-5d85-4eea-b689-64c3a703926c",
   "metadata": {},
   "outputs": [],
   "source": [
    "# Step 10: Extract Red, Green, and Blue channels\n",
    "blue_channel, green_channel, red_channel = cv2.split(color_image)\n",
    "\n",
    "plt.imshow(red_channel, cmap='Reds')\n",
    "plt.title(\"Red Channel\")\n",
    "plt.axis('off')\n",
    "plt.show()\n",
    "\n",
    "plt.imshow(green_channel, cmap='Greens')\n",
    "plt.title(\"Green Channel\")\n",
    "plt.axis('off')\n",
    "plt.show()\n",
    "\n",
    "plt.imshow(blue_channel, cmap='Blues')\n",
    "plt.title(\"Blue Channel\")\n",
    "plt.axis('off')\n",
    "plt.show()"
   ]
  },
  {
   "cell_type": "code",
   "execution_count": null,
   "id": "24a1ba2f-83ac-42f7-82ab-0022dab32482",
   "metadata": {},
   "outputs": [],
   "source": [
    "# Step 11: Regenerate the image from the Red, Green, and Blue channels\n",
    "regenerated_image = cv2.merge((blue_channel, green_channel, red_channel))\n",
    "display_image(regenerated_image, \"Regenerated Image\")"
   ]
  }
 ],
 "metadata": {
  "kernelspec": {
   "display_name": "Python 3 (ipykernel)",
   "language": "python",
   "name": "python3"
  },
  "language_info": {
   "codemirror_mode": {
    "name": "ipython",
    "version": 3
   },
   "file_extension": ".py",
   "mimetype": "text/x-python",
   "name": "python",
   "nbconvert_exporter": "python",
   "pygments_lexer": "ipython3",
   "version": "3.11.7"
  }
 },
 "nbformat": 4,
 "nbformat_minor": 5
}
