{
 "cells": [],
 "metadata": {
  "colab": {
   "authorship_tag": "ABX9TyORxCJxU5dK4t9ba9/5Jh54",
   "collapsed_sections": [],
   "name": "5. Transformations - Translations and Rotations.ipynb",
   "provenance": []
  },
  "kernelspec": {
   "display_name": "Python 3",
   "language": "python",
   "name": "python3"
  },
  "language_info": {
   "codemirror_mode": {
    "name": "ipython",
    "version": 3
   },
   "file_extension": ".py",
   "mimetype": "text/x-python",
   "name": "python",
   "nbconvert_exporter": "python",
   "pygments_lexer": "ipython3",
   "version": "3.9.4"
  }
 },
 "nbformat": 4,
 "nbformat_minor": 1
}
